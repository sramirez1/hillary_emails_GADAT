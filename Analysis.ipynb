{
 "cells": [
  {
   "cell_type": "markdown",
   "metadata": {},
   "source": [
    "####To Do's:\n",
    "1)Clean email body\n",
    "* Need to remove proper nouns\n",
    "* Need to remove any text after \"U.S. Department of State\",\"Sent from Verizon\"\n",
    "* Remove email addresses \n",
    "* Remove dates especially of the format \"Monday, January 18, 2010 11:52 AM\"\n",
    "* Remove times\n",
    "* Remove web addresses\n",
    "* Need to remove any strange non-English words\n",
    "* How do I deal with emails that list schedule for the day?\n",
    "* Change all occurences of \"pis\" to \"pls\". Assuming OCR error.\n",
    "\n",
    "2)Run K-Means Clustering\n",
    "3)Run LDA \n",
    "\n",
    "* After defining topics , determine similarity between emails for clustering. Possibly clustering texts with KMeans\n",
    "* Need to stem words? Keep a word dictionary for all stem words, they don't make sense otherwise\n",
    "* Look specifically at emails with **fwd** \n",
    "\n",
    "* Locality-sensitive hashing\n",
    "* Look into lemmatization\n",
    "* Chunking "
   ]
  },
  {
   "cell_type": "markdown",
   "metadata": {},
   "source": [
    "###Import Libraries"
   ]
  },
  {
   "cell_type": "code",
   "execution_count": 7,
   "metadata": {
    "collapsed": true
   },
   "outputs": [],
   "source": [
    "import pandas as pd\n",
    "import numpy as np\n",
    "import sqlite3\n",
    "import itertools\n",
    "from nltk.corpus import stopwords\n",
    "import nltk\n",
    "import re\n",
    "from sklearn.feature_extraction.text import CountVectorizer\n",
    "from nltk.stem.porter import PorterStemmer\n",
    "from nltk.stem.snowball import SnowballStemmer\n",
    "from nltk.stem.lancaster import LancasterStemmer\n",
    "from nltk.stem import WordNetLemmatizer\n",
    "from sklearn.feature_extraction.text import TfidfVectorizer\n",
    "from sklearn.cluster import KMeans\n",
    "import matplotlib.pyplot as plt\n",
    "% matplotlib inline\n",
    "from nltk.tokenize import RegexpTokenizer\n",
    "from gensim import corpora, models, similarities, matutils\n",
    "import logging\n",
    "logging.basicConfig(format='%(asctime)s : %(levelname)s : %(message)s', level=logging.DEBUG)"
   ]
  },
  {
   "cell_type": "raw",
   "metadata": {},
   "source": [
    "###Setup and Review Sqlite Database\n"
   ]
  },
  {
   "cell_type": "code",
   "execution_count": 8,
   "metadata": {
    "collapsed": false
   },
   "outputs": [
    {
     "data": {
      "text/plain": [
       "[(u'Emails',), (u'Persons',), (u'Aliases',), (u'EmailReceivers',)]"
      ]
     },
     "execution_count": 8,
     "metadata": {},
     "output_type": "execute_result"
    }
   ],
   "source": [
    "con = sqlite3.connect('input/database.sqlite')\n",
    "cursor = con.cursor()\n",
    "cursor.execute(\"SELECT name FROM sqlite_master WHERE type='table';\")\n",
    "[x for x in cursor.fetchall()]"
   ]
  },
  {
   "cell_type": "code",
   "execution_count": 9,
   "metadata": {
    "collapsed": false
   },
   "outputs": [],
   "source": [
    "emails= pd.read_sql_query(\"Select * From Emails where ExtractedBodyText!= ''\",con)\n",
    "persons=pd.read_sql_query(\"Select * From Persons\",con)\n",
    "longemails= pd.read_sql_query(\"Select * From Emails where length(ExtractedBodyText)>500 \\\n",
    "                                and ExtractedBodyText!= ''\",con)\n",
    "aliases=pd.read_sql_query(\"Select * From Aliases\", con)"
   ]
  },
  {
   "cell_type": "code",
   "execution_count": 10,
   "metadata": {
    "collapsed": false
   },
   "outputs": [
    {
     "name": "stdout",
     "output_type": "stream",
     "text": [
      "Number of Emails: 6742\n"
     ]
    }
   ],
   "source": [
    "print \"Number of Emails: %d\" % emails.shape[0]"
   ]
  },
  {
   "cell_type": "code",
   "execution_count": 11,
   "metadata": {
    "collapsed": false
   },
   "outputs": [
    {
     "name": "stdout",
     "output_type": "stream",
     "text": [
      "()\n",
      "Random Email #1\n",
      "()\n",
      "Mills, Cheryl D <MillsCD@state.gov>\n",
      "Wednesday, December 22, 2010 11:48 AM\n",
      "FW: QDDR FOLLOWUP\n",
      "Sigh — despite my having advised otherwise ...\n",
      "()\n",
      "()\n",
      "Random Email #2\n",
      "()\n",
      "Yep! Received 13. Printed and on your desk.\n",
      ">\n",
      "()\n",
      "()\n",
      "Random Email #3\n",
      "()\n",
      "One thing I missed:\n",
      "Currency deferral decision likely tonight.\n",
      "()\n",
      "()\n",
      "Random Email #4\n",
      "()\n",
      "Can you send me the language we prefer in a resolution?\n",
      "()\n",
      "()\n",
      "Random Email #5\n",
      "()\n",
      "For hRC's review it's time sensitive and due today, so if you can print for her that would be ideal.\n",
      "'anks.\n",
      "ca.).\n",
      "()\n",
      "()\n",
      "Random Email #6\n",
      "()\n",
      "Oh, dear. I guess I'd rather leave at 2 but does that present problems I don't know about?\n",
      "()\n",
      "()\n",
      "Random Email #7\n",
      "()\n",
      "Importance: High\n",
      "FYI\n",
      "- - —\n",
      "()\n",
      "()\n",
      "Random Email #8\n",
      "()\n",
      "Ok to set up call. What's his first name?\n",
      "()\n",
      "()\n",
      "Random Email #9\n",
      "()\n",
      "Pat and I are looking at this will check in am B5\n",
      "()\n",
      "()\n",
      "Random Email #10\n",
      "()\n",
      "FYI — Bill Burns cannot move his meeting.\n",
      "()\n"
     ]
    }
   ],
   "source": [
    "import random\n",
    "my_randoms = random.sample(xrange(6742), 10)\n",
    "count=0\n",
    "for i in my_randoms:\n",
    "    count+=1\n",
    "    print ()\n",
    "    print (\"Random Email #%d\" %count)\n",
    "    print ()\n",
    "    print(emails[\"ExtractedBodyText\"][i])\n",
    "    print ()"
   ]
  },
  {
   "cell_type": "markdown",
   "metadata": {},
   "source": [
    "###Clean up text of email body"
   ]
  },
  {
   "cell_type": "code",
   "execution_count": 12,
   "metadata": {
    "collapsed": false
   },
   "outputs": [],
   "source": [
    "# Uncomment the next line to download stop words if it's not already installed.\n",
    "#nltk.download()"
   ]
  },
  {
   "cell_type": "code",
   "execution_count": 13,
   "metadata": {
    "collapsed": false
   },
   "outputs": [],
   "source": [
    "#Define email_to_words function to clean email body\n",
    "#import email_to_words as email_to_words\n",
    "%run ./email_to_words2.py"
   ]
  },
  {
   "cell_type": "code",
   "execution_count": 14,
   "metadata": {
    "collapsed": false
   },
   "outputs": [
    {
     "name": "stdout",
     "output_type": "stream",
     "text": [
      "Cleaning email 1000 of 6742\n",
      "\n",
      "Cleaning email 2000 of 6742\n",
      "\n",
      "Cleaning email 3000 of 6742\n",
      "\n",
      "Cleaning email 4000 of 6742\n",
      "\n",
      "Cleaning email 5000 of 6742\n",
      "\n",
      "Cleaning email 6000 of 6742\n",
      "\n"
     ]
    }
   ],
   "source": [
    "# Get the number of emails based on the dataframe column size\n",
    "num_emails = emails[\"ExtractedBodyText\"].size\n",
    "\n",
    "# Initialize an empty list to hold the clean reviews\n",
    "clean_emails = []\n",
    "stemmed_emails = []\n",
    "# Loop over each email; create an index i that goes from 0 to the length\n",
    "# of the emails \n",
    "for i in xrange( 0, num_emails ):\n",
    "    # If the index is evenly divisible by 1000, print a message\n",
    "    if( (i+1)%1000 == 0 ):\n",
    "        print (\"Cleaning email %d of %d\\n\" % ( i+1, num_emails ))                                                             \n",
    "  \n",
    "    # Call our function for each one, and add the result to the list of\n",
    "    # clean reviews\n",
    "    try:\n",
    "        clean_emails.append( email_to_words( emails[\"ExtractedBodyText\"][i] , english=False) )\n",
    "\n",
    "    except Exception as e:\n",
    "        clean_emails.append( email_to_words(\"I'm a placeholder sentence.\"), english=False)\n",
    "        print (\"Execption raised:\", e)"
   ]
  },
  {
   "cell_type": "code",
   "execution_count": 15,
   "metadata": {
    "collapsed": false
   },
   "outputs": [],
   "source": [
    "#Remove any empty emails\n",
    "clean_emails=[w for w in clean_emails if len(w)>0]"
   ]
  },
  {
   "cell_type": "code",
   "execution_count": 16,
   "metadata": {
    "collapsed": false,
    "scrolled": false
   },
   "outputs": [
    {
     "data": {
      "text/plain": [
       "6339"
      ]
     },
     "execution_count": 16,
     "metadata": {},
     "output_type": "execute_result"
    }
   ],
   "source": [
    "len(clean_emails)"
   ]
  },
  {
   "cell_type": "code",
   "execution_count": 29,
   "metadata": {
    "collapsed": true
   },
   "outputs": [],
   "source": [
    "import pickle  # or import cPickle as pickle\n",
    " \n",
    "# Create dictionary, list, etc. \n",
    "# Write to file\n",
    "pickle.dump( clean_emails, open( \"output/clean_emails.p\", \"wb\" ) )\n"
   ]
  },
  {
   "cell_type": "markdown",
   "metadata": {},
   "source": [
    "####Tokenize and Stem "
   ]
  },
  {
   "cell_type": "code",
   "execution_count": 17,
   "metadata": {
    "collapsed": true
   },
   "outputs": [],
   "source": [
    "def tokenize_and_stem(text):\n",
    "    # first tokenize by sentence, then by word to ensure that punctuation is caught as it's own token\n",
    "    tokens = [word for sent in nltk.sent_tokenize(text) for word in nltk.word_tokenize(sent)]\n",
    "    filtered_tokens = []\n",
    "    # filter out any tokens not containing letters (e.g., numeric tokens, raw punctuation)\n",
    "    for token in tokens:\n",
    "        if re.search('[a-zA-Z]', token):\n",
    "            filtered_tokens.append(token)\n",
    "    stems = [p_stemmer.stem(t) for t in filtered_tokens]\n",
    "    return stems\n",
    "\n",
    "\n",
    "def tokenize_only(text):\n",
    "    # first tokenize by sentence, then by word to ensure that punctuation is caught as it's own token\n",
    "    tokens = [word.lower() for sent in nltk.sent_tokenize(text) for word in nltk.word_tokenize(sent)]\n",
    "    filtered_tokens = []\n",
    "    # filter out any tokens not containing letters (e.g., numeric tokens, raw punctuation)\n",
    "    for token in tokens:\n",
    "        if re.search('[a-zA-Z]', token):\n",
    "            filtered_tokens.append(token)\n",
    "    return filtered_tokens"
   ]
  },
  {
   "cell_type": "code",
   "execution_count": 18,
   "metadata": {
    "collapsed": false
   },
   "outputs": [],
   "source": [
    "totalvocab_stemmed = []\n",
    "totalvocab_tokenized = []\n",
    "for i in clean_emails:\n",
    "    allwords_stemmed = tokenize_and_stem(i) #for each item in 'cleaned_emails', tokenize/stem\n",
    "    totalvocab_stemmed.extend(allwords_stemmed) #extend the 'totalvocab_stemmed' list\n",
    "    \n",
    "    allwords_tokenized = tokenize_only(i)\n",
    "    totalvocab_tokenized.extend(allwords_tokenized)"
   ]
  },
  {
   "cell_type": "code",
   "execution_count": 19,
   "metadata": {
    "collapsed": false
   },
   "outputs": [
    {
     "name": "stdout",
     "output_type": "stream",
     "text": [
      "There are 292327 items/words in vocab_frame\n"
     ]
    }
   ],
   "source": [
    "vocab_frame = pd.DataFrame({'words': totalvocab_tokenized}, index = totalvocab_stemmed)\n",
    "print ('There are ' + str(vocab_frame.shape[0]) + ' items/words in vocab_frame')"
   ]
  },
  {
   "cell_type": "markdown",
   "metadata": {},
   "source": [
    "####TF-IDF"
   ]
  },
  {
   "cell_type": "code",
   "execution_count": 454,
   "metadata": {
    "collapsed": false
   },
   "outputs": [
    {
     "name": "stdout",
     "output_type": "stream",
     "text": [
      "CPU times: user 11 s, sys: 147 ms, total: 11.2 s\n",
      "Wall time: 11.2 s\n"
     ]
    }
   ],
   "source": [
    "#Define vectorizer\n",
    "tfidf_vectorizer=TfidfVectorizer(stop_words='english', use_idf=True, tokenizer=tokenize_and_stem)\n",
    "\n",
    "#Fit the vectorizer\n",
    "%time tfidf_matrix=tfidf_vectorizer.fit_transform(clean_emails)"
   ]
  },
  {
   "cell_type": "code",
   "execution_count": 455,
   "metadata": {
    "collapsed": false
   },
   "outputs": [
    {
     "name": "stdout",
     "output_type": "stream",
     "text": [
      "(6340, 17201)\n"
     ]
    }
   ],
   "source": [
    "print(tfidf_matrix.shape)"
   ]
  },
  {
   "cell_type": "code",
   "execution_count": 456,
   "metadata": {
    "collapsed": false
   },
   "outputs": [],
   "source": [
    "terms=tfidf_vectorizer.get_feature_names()\n"
   ]
  },
  {
   "cell_type": "markdown",
   "metadata": {},
   "source": [
    "### K-Means Clustering"
   ]
  },
  {
   "cell_type": "code",
   "execution_count": 457,
   "metadata": {
    "collapsed": false
   },
   "outputs": [
    {
     "name": "stdout",
     "output_type": "stream",
     "text": [
      "CPU times: user 5.26 s, sys: 46.9 ms, total: 5.3 s\n",
      "Wall time: 5.42 s\n"
     ]
    }
   ],
   "source": [
    "numb_clusters=10\n",
    "\n",
    "kmeans=KMeans(n_clusters=numb_clusters, random_state=20151106)\n",
    "\n",
    "%time kmeans.fit(tfidf_matrix)\n",
    "\n",
    "clusters = kmeans.labels_.tolist()"
   ]
  },
  {
   "cell_type": "code",
   "execution_count": 458,
   "metadata": {
    "collapsed": true
   },
   "outputs": [],
   "source": [
    "emails={'emails':clean_emails, 'cluster':clusters}"
   ]
  },
  {
   "cell_type": "code",
   "execution_count": 459,
   "metadata": {
    "collapsed": false
   },
   "outputs": [],
   "source": [
    "cluster_frame=pd.DataFrame(emails, index=[clusters], columns=['cluster'])"
   ]
  },
  {
   "cell_type": "code",
   "execution_count": 460,
   "metadata": {
    "collapsed": false
   },
   "outputs": [
    {
     "data": {
      "text/plain": [
       "5    3663\n",
       "6    1308\n",
       "2     468\n",
       "7     167\n",
       "8     167\n",
       "1     161\n",
       "4     146\n",
       "9     117\n",
       "0      77\n",
       "3      66\n",
       "Name: cluster, dtype: int64"
      ]
     },
     "execution_count": 460,
     "metadata": {},
     "output_type": "execute_result"
    }
   ],
   "source": [
    "#Number of emails per cluster\n",
    "cluster_frame['cluster'].value_counts()"
   ]
  },
  {
   "cell_type": "code",
   "execution_count": 461,
   "metadata": {
    "collapsed": false
   },
   "outputs": [
    {
     "name": "stdout",
     "output_type": "stream",
     "text": [
      "Top terms pers cluster:\n",
      "\n",
      "Cluster 0 terms: release, fyi, declassify, reason, fedex, jake,\n",
      "\n",
      "Cluster 1 terms: thank, please, help, know, let, great,\n",
      "\n",
      "Cluster 2 terms: fyi, article, minute, stories, process, post,\n",
      "\n",
      "Cluster 3 terms: oscar, asap, print, flores, sheet, statement,\n",
      "\n",
      "Cluster 4 terms: print, please, pis, copied, thank, haiti,\n",
      "\n",
      "Cluster 5 terms: tomorrow, fyi, please, know, want, today,\n",
      "\n",
      "Cluster 6 terms: talk, work, good, think, time, want,\n",
      "\n",
      "Cluster 7 terms: offical, depart, state, valmoro, assist, room,\n",
      "\n",
      "Cluster 8 terms: email, please, thank, travel, access, assist,\n",
      "\n",
      "Cluster 9 terms: yes, work, thank, set, come, sorry,\n",
      "\n"
     ]
    }
   ],
   "source": [
    "from __future__ import print_function\n",
    "\n",
    "print(\"Top terms pers cluster:\")\n",
    "print ()\n",
    "#Sort cluster centers by proximity to centroid\n",
    "order_centroids = kmeans.cluster_centers_.argsort()[:,::-1]\n",
    "\n",
    "for i in range(numb_clusters):\n",
    "    print(\"Cluster %d terms:\" % i, end='')\n",
    "    \n",
    "    for ind in order_centroids[i,:6]:\n",
    "        \n",
    "        print (\" %s\" % vocab_frame.ix[terms[ind].split(' ')].values.tolist()[0][0].encode('utf-8', 'ignore'), end=\",\")\n",
    "    print()\n",
    "    print()"
   ]
  },
  {
   "cell_type": "markdown",
   "metadata": {},
   "source": [
    "### Latent Dirichlet Allocation"
   ]
  },
  {
   "cell_type": "code",
   "execution_count": 20,
   "metadata": {
    "collapsed": false
   },
   "outputs": [
    {
     "name": "stdout",
     "output_type": "stream",
     "text": [
      "CPU times: user 10.4 s, sys: 110 ms, total: 10.5 s\n",
      "Wall time: 10.7 s\n"
     ]
    }
   ],
   "source": [
    "from gensim import corpora, models, similarities \n",
    "#tokenize\n",
    "%time token_emails = [tokenize_and_stem(text) for text in clean_emails]"
   ]
  },
  {
   "cell_type": "code",
   "execution_count": 21,
   "metadata": {
    "collapsed": false
   },
   "outputs": [
    {
     "name": "stdout",
     "output_type": "stream",
     "text": [
      "CPU times: user 434 ms, sys: 8.75 ms, total: 443 ms\n",
      "Wall time: 441 ms\n",
      "CPU times: user 35.4 ms, sys: 922 µs, total: 36.3 ms\n",
      "Wall time: 36.4 ms\n",
      "CPU times: user 339 ms, sys: 6.48 ms, total: 345 ms\n",
      "Wall time: 345 ms\n"
     ]
    }
   ],
   "source": [
    "# turn our tokenized documents into a id <-> term dictionary\n",
    "%time dictionary = corpora.Dictionary(token_emails)\n",
    "\n",
    "#remove extremes\n",
    "%time dictionary.filter_extremes(no_below=1, no_above=0.8)\n",
    "\n",
    "dictionary.compactify()\n",
    "\n",
    "# convert tokenized documents into a document-term matrix\n",
    "%time corpus = [dictionary.doc2bow(text) for text in token_emails]\n"
   ]
  },
  {
   "cell_type": "code",
   "execution_count": 557,
   "metadata": {
    "collapsed": false
   },
   "outputs": [
    {
     "name": "stdout",
     "output_type": "stream",
     "text": [
      "CPU times: user 6min 9s, sys: 2.49 s, total: 6min 11s\n",
      "Wall time: 6min 16s\n",
      "CPU times: user 6min 12s, sys: 4.85 s, total: 6min 16s\n",
      "Wall time: 6min 26s\n",
      "CPU times: user 6min 4s, sys: 4.1 s, total: 6min 8s\n",
      "Wall time: 6min 13s\n",
      "CPU times: user 5min 59s, sys: 3.6 s, total: 6min 3s\n",
      "Wall time: 6min 7s\n",
      "CPU times: user 6min 3s, sys: 4.97 s, total: 6min 8s\n",
      "Wall time: 6min 13s\n"
     ]
    }
   ],
   "source": [
    "topics_range=(4,6,8,10,12)\n",
    "for i in topics_range:\n",
    "    np.random.seed(20111106)\n",
    "    # generate LDA model\n",
    "    %time ldamodel = models.ldamodel.LdaModel(corpus, num_topics=i, id2word = dictionary, passes=100, alpha='auto')\n",
    "    ldamodel.save('output/final_topic%d.model'%i)\n"
   ]
  },
  {
   "cell_type": "code",
   "execution_count": 30,
   "metadata": {
    "collapsed": false
   },
   "outputs": [
    {
     "ename": "NameError",
     "evalue": "name 'topics_range' is not defined",
     "output_type": "error",
     "traceback": [
      "\u001b[0;31m---------------------------------------------------------------------------\u001b[0m",
      "\u001b[0;31mNameError\u001b[0m                                 Traceback (most recent call last)",
      "\u001b[0;32m<ipython-input-30-813ea087d4cf>\u001b[0m in \u001b[0;36m<module>\u001b[0;34m()\u001b[0m\n\u001b[0;32m----> 1\u001b[0;31m \u001b[0;32mfor\u001b[0m \u001b[0mi\u001b[0m \u001b[0;32min\u001b[0m \u001b[0mtopics_range\u001b[0m\u001b[0;34m:\u001b[0m\u001b[0;34m\u001b[0m\u001b[0m\n\u001b[0m\u001b[1;32m      2\u001b[0m     \u001b[0mfinal\u001b[0m\u001b[0;34m=\u001b[0m\u001b[0mmodels\u001b[0m\u001b[0;34m.\u001b[0m\u001b[0mldamodel\u001b[0m\u001b[0;34m.\u001b[0m\u001b[0mLdaModel\u001b[0m\u001b[0;34m.\u001b[0m\u001b[0mload\u001b[0m\u001b[0;34m(\u001b[0m\u001b[0;34m'output/final_topic%d.model'\u001b[0m\u001b[0;34m%\u001b[0m\u001b[0mi\u001b[0m\u001b[0;34m)\u001b[0m\u001b[0;34m\u001b[0m\u001b[0m\n\u001b[1;32m      3\u001b[0m     \u001b[0mcount\u001b[0m\u001b[0;34m=\u001b[0m\u001b[0;36m0\u001b[0m\u001b[0;34m\u001b[0m\u001b[0m\n\u001b[1;32m      4\u001b[0m     \u001b[0;32mprint\u001b[0m \u001b[0;34m(\u001b[0m\u001b[0;34m\"%s TOPICS\"\u001b[0m\u001b[0;34m%\u001b[0m\u001b[0mi\u001b[0m\u001b[0;34m)\u001b[0m\u001b[0;34m\u001b[0m\u001b[0m\n\u001b[1;32m      5\u001b[0m     \u001b[0;32mfor\u001b[0m \u001b[0mi\u001b[0m \u001b[0;32min\u001b[0m \u001b[0;34m(\u001b[0m\u001b[0mfinal\u001b[0m\u001b[0;34m.\u001b[0m\u001b[0mprint_topics\u001b[0m\u001b[0;34m(\u001b[0m\u001b[0mnum_words\u001b[0m\u001b[0;34m=\u001b[0m\u001b[0;36m8\u001b[0m\u001b[0;34m)\u001b[0m\u001b[0;34m)\u001b[0m\u001b[0;34m:\u001b[0m\u001b[0;34m\u001b[0m\u001b[0m\n",
      "\u001b[0;31mNameError\u001b[0m: name 'topics_range' is not defined"
     ]
    }
   ],
   "source": [
    "for i in topics_range:\n",
    "    final=models.ldamodel.LdaModel.load('output/final_topic%d.model'%i)\n",
    "    count=0\n",
    "    print (\"%s TOPICS\"%i)\n",
    "    for i in (final.print_topics(num_words=8)):\n",
    "        count+=1\n",
    "        print ()\n",
    "        print ('Topic# %s :' %count, i)\n",
    "        print ()"
   ]
  },
  {
   "cell_type": "code",
   "execution_count": 26,
   "metadata": {
    "collapsed": false
   },
   "outputs": [],
   "source": [
    "final=models.ldamodel.LdaModel.load('output/final_topic10.model')\n"
   ]
  },
  {
   "cell_type": "markdown",
   "metadata": {},
   "source": [
    "###Evaluation"
   ]
  },
  {
   "cell_type": "code",
   "execution_count": 4,
   "metadata": {
    "collapsed": false
   },
   "outputs": [
    {
     "name": "stdout",
     "output_type": "stream",
     "text": [
      "[[u'offic', u'depart', u'meet', u'room', u'state', u'arriv', u'rout', u'confer'], [u'call', u'see', u'get', u'want', u'know', u'work', u'thank', u'talk'], [u'pleas', u'print', u'messag', u'list', u'thank', u'qddr', u'copi', u'add'], [u'releas', u'part', u'state', u'new', u'team', u'chapter', u'valmoro', u'branch'], [u'american', u'state', u'new', u'presid', u'one', u'year', u'said', u'obama'], [u'hous', u'obama', u'white', u'bill', u'said', u'presid', u'staff', u'senat'], [u'fyi', u'israel', u'isra', u'parti', u'palestinian', u'peac', u'arab', u'negoti'], [u'work', u'develop', u'state', u'new', u'polici', u'peopl', u'issu', u'world'], [u'republican', u'democrat', u'vote', u'senat', u'percent', u'elect', u'parti', u'candid'], [u'koch', u'tea', u'right', u'beck', u'parti', u'movement', u'book', u'skousen']]\n"
     ]
    }
   ],
   "source": [
    "# select top 10 words for each of the 20 LDA topics\n",
    "top_words = [[word for _, word in final.show_topic(topicno, topn=8)] for topicno in range(final.num_topics)]\n",
    "print(top_words)"
   ]
  },
  {
   "cell_type": "code",
   "execution_count": 5,
   "metadata": {
    "collapsed": false
   },
   "outputs": [
    {
     "name": "stdout",
     "output_type": "stream",
     "text": [
      "Can you find the word intruder?\n",
      "0: offic depart meet room state arriv list confer\n",
      "1: call see get want know work develop talk\n",
      "2: pleas print messag list thank year copi add\n",
      "3: releas part arriv new team chapter valmoro branch\n",
      "4: american state new rout one year said obama\n",
      "5: talk obama white bill said presid staff senat\n",
      "6: fyi israel isra parti palestinian peac arab hous\n",
      "7: work develop year new polici peopl issu world\n",
      "8: republican democrat vote senat percent fyi parti candid\n",
      "9: koch hous right beck parti movement book skousen\n"
     ]
    }
   ],
   "source": [
    "# get all top 50 words in all 20 topics, as one large set\n",
    "all_words = set(itertools.chain.from_iterable(top_words))\n",
    "\n",
    "print(\"Can you find the word intruder?\")\n",
    "\n",
    "# for each topic, replace a word at a different index, to make it more interesting\n",
    "replace_index = np.random.randint(0, 8, final.num_topics)\n",
    "\n",
    "replacements = []\n",
    "for topicno, words in enumerate(top_words):\n",
    "    other_words = all_words.difference(words)\n",
    "    replacement = np.random.choice(list(other_words))\n",
    "    replacements.append((words[replace_index[topicno]], replacement))\n",
    "    words[replace_index[topicno]] = replacement\n",
    "    print(\"%i: %s\" % (topicno, ' '.join(words[:10])))"
   ]
  },
  {
   "cell_type": "code",
   "execution_count": 575,
   "metadata": {
    "collapsed": false
   },
   "outputs": [
    {
     "name": "stdout",
     "output_type": "stream",
     "text": [
      "Actual replacements were:\n",
      "[(0, (u'depart', u'republican')), (1, (u'work', u'valmoro')), (2, (u'add', u'candid')), (3, (u'part', u'negoti')), (4, (u'american', u'messag')), (5, (u'senat', u'print')), (6, (u'arab', u'messag')), (7, (u'state', u'right')), (8, (u'republican', u'messag')), (9, (u'parti', u'confer'))]\n"
     ]
    }
   ],
   "source": [
    "print(\"Actual replacements were:\")\n",
    "print(list(enumerate(replacements)))"
   ]
  },
  {
   "cell_type": "code",
   "execution_count": 559,
   "metadata": {
    "collapsed": true
   },
   "outputs": [],
   "source": [
    "def intra_inter(model, test_docs, num_pairs=10000):\n",
    "    # split each test document into two halves and compute topics for each half\n",
    "    part1 = [model[dictionary.doc2bow(tokens[: len(tokens) / 2])] for tokens in test_docs]\n",
    "    part2 = [model[dictionary.doc2bow(tokens[len(tokens) / 2 :])] for tokens in test_docs]\n",
    "    \n",
    "    # print computed similarities (uses cossim)\n",
    "    print(\"average cosine similarity between corresponding parts (higher is better):\")\n",
    "    print(np.mean([matutils.cossim(p1, p2) for p1, p2 in zip(part1, part2)]))\n",
    "\n",
    "    random_pairs = np.random.randint(0, len(test_docs), size=(num_pairs, 2))\n",
    "    print(\"average cosine similarity between random parts (lower is better):\")    \n",
    "    print(np.mean([matutils.cossim(part1[i[0]], part2[i[1]]) for i in random_pairs]))"
   ]
  },
  {
   "cell_type": "code",
   "execution_count": 560,
   "metadata": {
    "collapsed": false
   },
   "outputs": [
    {
     "name": "stdout",
     "output_type": "stream",
     "text": [
      "LDA results 4 TOPICS:\n",
      "average cosine similarity between corresponding parts (higher is better):\n",
      "0.861707880884\n",
      "average cosine similarity between random parts (lower is better):\n",
      "0.691270549601\n",
      "LDA results 6 TOPICS:\n",
      "average cosine similarity between corresponding parts (higher is better):\n",
      "0.839454637874\n",
      "average cosine similarity between random parts (lower is better):\n",
      "0.672448411281\n",
      "LDA results 8 TOPICS:\n",
      "average cosine similarity between corresponding parts (higher is better):\n",
      "0.833823493316\n",
      "average cosine similarity between random parts (lower is better):\n",
      "0.648171243314\n",
      "LDA results 10 TOPICS:\n",
      "average cosine similarity between corresponding parts (higher is better):\n",
      "0.832964800841\n",
      "average cosine similarity between random parts (lower is better):\n",
      "0.659063567498\n",
      "LDA results 12 TOPICS:\n",
      "average cosine similarity between corresponding parts (higher is better):\n",
      "0.839291530635\n",
      "average cosine similarity between random parts (lower is better):\n",
      "0.666771757282\n"
     ]
    }
   ],
   "source": [
    "for i in topics_range:\n",
    "    final=models.ldamodel.LdaModel.load('final_topic%d.model'%i)\n",
    "    print(\"LDA results %s TOPICS:\"%i)\n",
    "    intra_inter(final, test_docs=token_emails)"
   ]
  },
  {
   "cell_type": "markdown",
   "metadata": {},
   "source": [
    "###Results\n"
   ]
  },
  {
   "cell_type": "code",
   "execution_count": 27,
   "metadata": {
    "collapsed": true
   },
   "outputs": [],
   "source": [
    "import pyLDAvis.gensim as gensimvis\n",
    "import pyLDAvis"
   ]
  },
  {
   "cell_type": "code",
   "execution_count": 526,
   "metadata": {
    "collapsed": true
   },
   "outputs": [],
   "source": [
    "gensimvis.prepare?\n"
   ]
  },
  {
   "cell_type": "code",
   "execution_count": 28,
   "metadata": {
    "collapsed": false
   },
   "outputs": [
    {
     "name": "stderr",
     "output_type": "stream",
     "text": [
      "/Users/banti/Applications/anaconda/lib/python2.7/site-packages/pyLDAvis/_prepare.py:283: FutureWarning: order is deprecated, use sort_values(...)\n",
      "  topic_proportion = (topic_freq / topic_freq.sum()).order(ascending=False)\n",
      "/Users/banti/Applications/anaconda/lib/python2.7/site-packages/pyLDAvis/_prepare.py:154: FutureWarning: sort(columns=....) is deprecated, use sort_values(by=.....)\n",
      "  sort('saliency', ascending=False). \\\n",
      "/Users/banti/Applications/anaconda/lib/python2.7/site-packages/pyLDAvis/_prepare.py:203: FutureWarning: sort(columns=....) is deprecated, use sort_values(by=.....)\n",
      "  return token_table.sort(['Term', 'Topic'])\n",
      "/Users/banti/Applications/anaconda/lib/python2.7/site-packages/pyLDAvis/_prepare.py:132: FutureWarning: order is deprecated, use sort_values(...)\n",
      "  return relevance.T.apply(lambda s: s.order(ascending=False).index).head(R)\n",
      "/Users/banti/Applications/anaconda/lib/python2.7/site-packages/pyLDAvis/_prepare.py:132: FutureWarning: order is deprecated, use sort_values(...)\n",
      "  return relevance.T.apply(lambda s: s.order(ascending=False).index).head(R)\n",
      "/Users/banti/Applications/anaconda/lib/python2.7/site-packages/pyLDAvis/_prepare.py:132: FutureWarning: order is deprecated, use sort_values(...)\n",
      "  return relevance.T.apply(lambda s: s.order(ascending=False).index).head(R)\n",
      "/Users/banti/Applications/anaconda/lib/python2.7/site-packages/pyLDAvis/_prepare.py:132: FutureWarning: order is deprecated, use sort_values(...)\n",
      "  return relevance.T.apply(lambda s: s.order(ascending=False).index).head(R)\n"
     ]
    },
    {
     "data": {
      "text/html": [
       "\n",
       "<link rel=\"stylesheet\" type=\"text/css\" href=\"https://cdn.rawgit.com/bmabey/pyLDAvis/files/ldavis.v1.0.0.css\">\n",
       "\n",
       "\n",
       "<div id=\"ldavis_el283547595250726547218360\"></div>\n",
       "<script type=\"text/javascript\">\n",
       "\n",
       "var ldavis_el283547595250726547218360_data = {\"plot.opts\": {\"xlab\": \"PC1\", \"ylab\": \"PC2\"}, \"topic.order\": [5, 8, 2, 7, 9, 1, 6, 10, 3, 4], \"token.table\": {\"Topic\": [7, 1, 8, 4, 9, 7, 4, 1, 6, 8, 5, 1, 4, 9, 10, 1, 2, 4, 6, 9, 7, 1, 5, 1, 2, 9, 2, 1, 2, 3, 7, 2, 1, 6, 10, 9, 1, 2, 7, 10, 1, 6, 7, 6, 6, 4, 6, 1, 2, 3, 5, 1, 2, 6, 7, 10, 1, 2, 5, 8, 1, 2, 4, 5, 6, 2, 1, 2, 4, 5, 10, 4, 4, 5, 6, 8, 9, 5, 3, 7, 10, 10, 1, 2, 1, 2, 5, 1, 4, 5, 10, 7, 6, 1, 1, 2, 4, 9, 9, 10, 1, 3, 5, 1, 1, 2, 5, 6, 7, 9, 10, 7, 9, 4, 7, 9, 1, 2, 3, 4, 9, 3, 3, 9, 1, 3, 8, 1, 8, 3, 4, 4, 7, 2, 10, 2, 6, 1, 2, 3, 5, 7, 10, 10, 9, 8, 8, 6, 9, 2, 2, 5, 1, 5, 6, 10, 7, 7, 1, 8, 9, 10, 10, 4, 1, 8, 10, 2, 6, 7, 9, 1, 3, 4, 5, 7, 2, 9, 1, 2, 7, 9, 2, 1, 3, 3, 1, 3, 4, 6, 6, 4, 1, 2, 4, 5, 7, 2, 1, 5, 6, 7, 1, 2, 3, 5, 7, 8, 10, 3, 1, 8, 6, 8, 2, 7, 3, 10, 1, 7, 8, 1, 2, 6, 7, 1, 1, 1, 5, 6, 1, 2, 8, 1, 4, 8, 1, 10, 2, 5, 10, 7, 1, 2, 3, 5, 1, 2, 6, 7, 1, 8, 1, 2, 5, 2, 4, 6, 7, 10, 1, 2, 5, 7, 1, 7, 1, 2, 4, 5, 1, 4, 5, 6, 9, 8, 9, 3, 8, 9, 4, 1, 2, 9, 6, 1, 10, 4, 1, 6, 5, 1, 2, 4, 6, 7, 8, 1, 2, 3, 7, 10, 1, 2, 4, 1, 8, 9, 10, 10, 1, 6, 7, 1, 2, 9, 9, 5, 5, 1, 4, 5, 7, 9, 1, 2, 6, 7, 5, 7, 1, 2, 6, 8, 3, 1, 2, 6, 10, 1, 2, 7, 10, 1, 2, 3, 4, 5, 10, 1, 5, 1, 2, 3, 4, 1, 5, 8, 8, 10, 7, 3, 8, 10, 1, 10, 5, 7, 8, 7, 1, 4, 6, 1, 2, 6, 1, 10, 2, 6, 6, 1, 2, 10, 1, 2, 3, 4, 5, 2, 10, 3, 9, 7, 1, 2, 3, 5, 7, 5, 1, 2, 9, 10, 1, 2, 3, 5, 2, 4, 2, 1, 6, 1, 2, 3, 6, 7, 8, 1, 4, 5, 5, 1, 8, 2, 1, 2, 3, 4, 5, 10, 7, 4, 10, 2, 6, 7, 1, 2, 4, 1, 2, 3, 4, 5, 9, 1, 6, 4, 8, 1, 2, 6, 7, 4, 7, 1, 2, 4, 5, 7, 8, 7, 2, 4, 4, 3, 9, 1, 6, 8, 4, 6, 9, 2, 3, 7, 7, 8, 4, 1, 2, 5, 6, 7, 9, 3, 1, 2, 3, 5, 10, 10, 8, 10, 1, 2, 6, 1, 2, 3, 5, 1, 2, 3, 7, 7, 10, 7, 1, 2, 3, 10, 1, 2, 4, 9, 1, 2, 3, 4, 10, 10, 7, 8, 1, 2, 4, 5, 6, 8, 6, 8, 2, 6, 9, 5, 2, 3, 6, 9, 7, 9, 10, 6, 6, 7, 2, 5, 2, 1, 7, 10, 10, 10, 10, 8, 3, 7, 9, 8, 1, 2, 3, 1, 5, 6, 7, 2, 8, 7, 1, 6, 1, 7, 2, 2, 9, 10, 7, 9, 1, 8, 10, 1, 2, 9, 2, 1, 2, 3, 4, 5, 5, 1, 10, 1, 2, 4, 6, 1, 6, 1, 3, 6, 4, 7, 4, 6, 4, 1, 2, 3, 4, 5, 3, 2, 9, 3, 6, 9, 8, 4, 4, 4, 9, 9, 6, 7, 10, 1, 3, 5, 6, 7, 8, 9, 3, 6, 7, 8, 5, 6, 8, 9, 1, 4, 9, 3, 5, 9, 1, 5, 6, 9, 10, 10, 6, 8, 7, 8, 1, 3, 5, 8, 8, 7, 10, 2, 1, 4, 6, 9, 1, 2, 3, 4, 10, 9, 1, 9, 10, 10, 10, 1, 2, 4, 7, 10, 1, 2, 8, 1, 5, 1, 3, 3, 4, 9, 10, 8, 4, 10, 1, 2, 8, 1, 2, 3, 4, 5, 4, 1, 5, 8, 6, 10, 1, 3, 5, 9, 9, 4, 4, 8, 2, 7, 2, 2, 2, 3, 10, 6, 2, 1, 4, 9, 1, 2, 3, 4, 3, 10, 3, 3, 10, 3, 9, 6, 2, 4, 1, 2, 4, 5, 2, 3, 4, 6, 6, 1, 2, 4, 5, 6, 7, 8, 10, 6, 4, 1, 5, 1, 2, 4, 9, 1, 2, 1, 2, 4, 6, 1, 4, 5, 6, 1, 7, 6, 2, 9, 1, 5, 3, 8, 1, 3, 1, 4, 5, 8, 3, 6, 1, 2, 3, 4, 8, 9, 2, 3, 1, 2, 5, 6, 1, 2, 3, 9, 1, 4, 6, 4, 1, 2, 5, 6, 8, 10, 10, 10, 9, 1, 3, 10, 9, 9, 1, 4, 1, 2, 10, 6, 8, 10, 1, 6, 4, 10, 1, 2, 4, 5, 7, 2, 6, 1, 5, 6, 7, 9, 1, 2, 6, 9, 1, 2, 3, 4, 5, 6, 7, 5, 3, 8, 1, 2, 5, 1, 2, 2, 1, 3, 10, 7, 1, 2, 4, 6, 8, 9, 6, 2, 1, 2, 3, 5, 10, 4, 6, 5, 6, 2, 1, 2, 4, 10, 1, 2, 4, 5, 8, 10, 2, 4, 1, 2, 4, 6, 4, 10, 1, 7, 1, 2, 3, 4, 1, 2, 4, 5, 7, 10, 1, 7, 6, 9, 6, 10, 10, 9, 2, 10, 9, 1, 2, 3, 2, 3, 4, 9, 1, 2, 7, 1, 2, 4, 5, 8, 1, 1, 4, 5, 4, 6, 7, 1, 10, 9, 1, 2, 5, 6, 7, 9, 1, 2, 5, 6, 7, 1, 2, 3, 6, 1, 2, 4, 6, 2, 5, 9, 1, 2, 6, 1, 2, 3, 4, 3, 2, 3, 5, 1, 4, 8, 4, 1, 1, 2, 4, 5, 7, 2, 1, 3, 9, 1, 9, 1, 1, 8, 5, 2, 5, 6, 1, 10, 1, 2, 3, 10, 10, 3, 1, 2, 3, 5, 9, 8, 2, 4, 9, 2, 5, 7, 10, 3, 1, 2, 4, 5, 10, 1, 1, 10, 10, 3, 10, 1, 5, 7, 4, 2, 5, 6, 8, 2, 6, 10, 9, 7, 8, 10, 1, 2, 3, 4, 8, 8, 5, 10, 10, 5, 10, 6, 6, 10, 8, 1, 6, 8, 8, 8, 1, 2, 3, 4, 5, 7, 7, 8, 8, 6, 3, 1, 3, 5, 2, 4, 5, 9, 10, 6, 7, 5, 9, 4, 5, 6, 1, 2, 3, 4, 6, 1, 3, 5, 6, 1, 5, 6, 7, 10, 2, 3, 9, 1, 6, 7, 2, 4, 9, 9, 7, 10, 4, 6, 1, 5, 7, 8, 1, 9, 10, 1, 2, 4, 1, 2, 6, 9, 10, 3, 1, 2, 6, 9, 10, 10, 6, 2, 3, 4, 6, 7, 2, 2, 1, 2, 3, 10, 1, 2, 4, 5, 6, 7, 9, 10, 9, 7, 9, 2, 2, 8, 6, 10, 1, 2, 3, 4, 5, 2, 3, 10, 1, 2, 3, 5, 1, 2, 3, 4, 2, 5, 8, 10, 6, 7, 1, 5, 8, 1, 2, 4, 6, 7, 10, 5, 9, 5, 2, 1, 3, 9, 10, 1, 2, 3, 5, 1, 2, 3, 4, 5, 6, 1, 1, 2, 3, 4, 5, 1, 3, 4, 7, 8, 3, 3, 1, 2, 5, 6, 7, 4, 4, 1, 2, 10, 5, 1, 2, 1, 9, 1, 2, 3, 9, 10, 10, 1, 6, 1, 1, 3, 4, 5, 1, 1, 7, 5, 2, 10, 2, 1, 2, 5, 6, 1, 10, 4, 1, 7, 3, 7, 4, 5, 3, 4, 5, 10, 10, 6, 8, 9, 1, 1, 10, 10, 6, 9, 1, 6, 7, 9, 4, 1, 1, 4, 5, 10, 4, 5, 1, 7, 1, 2, 3, 1, 2, 1, 2, 6, 7, 9, 5, 1, 1, 9, 1, 2, 3, 4, 6, 7, 6, 1, 5, 7, 6, 1, 10, 1, 4, 5, 6, 8, 2, 10, 9, 1, 2, 6, 1, 2, 3, 6, 10, 1, 2, 6, 5, 3, 3, 9, 1, 2, 3, 5, 6, 3, 7, 4, 9, 10, 8], \"Freq\": [1.0, 0.4642857142857143, 0.5178571428571429, 1.0, 1.0, 1.0, 1.0, 0.3108108108108108, 0.040540540540540543, 0.63513513513513509, 1.0, 0.16101694915254236, 0.042372881355932202, 0.71186440677966101, 0.076271186440677971, 0.35148514851485146, 0.35148514851485146, 0.039603960396039604, 0.014851485148514851, 0.24257425742574257, 1.0, 1.0, 0.66666666666666663, 0.84292035398230092, 0.13274336283185842, 0.024336283185840708, 1.0, 0.42131979695431471, 0.055837563451776651, 0.1116751269035533, 0.40609137055837563, 1.0, 0.99220779220779221, 0.0051948051948051948, 1.0, 1.0, 0.37142857142857144, 0.29795918367346941, 0.32244897959183672, 0.0081632653061224497, 0.2982456140350877, 0.58771929824561409, 0.11403508771929824, 0.99378881987577639, 1.0, 1.0, 1.0, 0.31813471502590673, 0.17305699481865286, 0.50051813471502593, 0.0072538860103626944, 0.10683760683760683, 0.34188034188034189, 0.19230769230769232, 0.30769230769230771, 0.05128205128205128, 0.87628865979381443, 0.065292096219931275, 0.010309278350515464, 0.048109965635738834, 0.80359147025813693, 0.049382716049382713, 0.052749719416386086, 0.081930415263748599, 0.011223344556677889, 1.0, 0.41999999999999998, 0.10000000000000001, 0.068000000000000005, 0.40000000000000002, 0.012, 1.0, 0.057471264367816091, 0.034482758620689655, 0.87356321839080464, 0.034482758620689655, 1.0, 1.0, 1.0, 0.33333333333333331, 0.33333333333333331, 1.0, 0.16352201257861634, 0.83647798742138368, 0.18633540372670807, 0.031055900621118012, 0.78260869565217395, 0.10185185185185185, 0.89351851851851849, 1.0, 0.95238095238095233, 1.0, 0.99736842105263157, 1.0, 0.52317880794701987, 0.11258278145695365, 0.072847682119205295, 0.28476821192052981, 0.15625, 0.8125, 0.22616822429906541, 0.73831775700934577, 0.033644859813084113, 1.0, 0.099378881987577633, 0.3105590062111801, 0.015527950310559006, 0.15838509316770186, 0.049689440993788817, 0.20496894409937888, 0.16149068322981366, 1.0, 0.88888888888888884, 0.25, 0.75, 1.0, 0.25039872408293462, 0.011164274322169059, 0.73046251993620415, 0.006379585326953748, 1.0, 1.0, 0.5, 0.5, 1.0, 1.0, 0.83333333333333337, 0.065420560747663545, 0.92523364485981308, 0.10526315789473684, 0.89473684210526316, 0.03614457831325301, 0.95180722891566261, 1.0, 1.0, 0.094339622641509441, 0.89622641509433965, 0.0023201856148491878, 0.10904872389791183, 0.39211136890951276, 0.067285382830626447, 0.42459396751740142, 0.0046403712296983757, 1.0, 1.0, 1.0, 0.96296296296296291, 0.14285714285714285, 0.8571428571428571, 1.0, 1.0, 1.0, 0.22641509433962265, 0.11320754716981132, 0.075471698113207544, 0.56603773584905659, 0.99285714285714288, 1.0, 0.55327868852459017, 0.29508196721311475, 0.05737704918032787, 0.090163934426229511, 1.0, 1.0, 0.18518518518518517, 0.092592592592592587, 0.71296296296296291, 0.11693548387096774, 0.83870967741935487, 0.040322580645161289, 0.97674418604651159, 0.059171597633136092, 0.1893491124260355, 0.54437869822485208, 0.1893491124260355, 0.011834319526627219, 1.0, 1.0, 0.087431693989071038, 0.73770491803278693, 0.14754098360655737, 0.02185792349726776, 1.0, 0.96226415094339623, 0.037735849056603772, 1.0, 0.058527375707992449, 0.89112649465072369, 0.011957205789804909, 0.038388923851478921, 0.98809523809523814, 0.99186991869918695, 0.43377483443708609, 0.12251655629139073, 0.10927152317880795, 0.14238410596026491, 0.18874172185430463, 1.0, 0.14356435643564355, 0.85148514851485146, 0.2711864406779661, 0.71186440677966101, 0.13157894736842105, 0.25730994152046782, 0.13157894736842105, 0.41520467836257308, 0.011695906432748537, 0.035087719298245612, 0.011695906432748537, 1.0, 0.16666666666666666, 0.83333333333333337, 1.0, 0.83333333333333337, 1.0, 1.0, 1.0, 1.0, 0.10126582278481013, 0.025316455696202531, 0.87341772151898733, 0.39086294416243655, 0.16243654822335024, 0.086294416243654817, 0.35532994923857869, 1.0, 1.0, 0.26829268292682928, 0.65853658536585369, 0.04878048780487805, 0.53125, 0.19791666666666666, 0.26041666666666669, 0.4885057471264368, 0.29310344827586204, 0.21264367816091953, 0.38235294117647056, 0.58823529411764708, 0.98795180722891562, 0.11764705882352941, 0.8529411764705882, 1.0, 0.28205128205128205, 0.082417582417582416, 0.62087912087912089, 0.01282051282051282, 0.15873015873015872, 0.35978835978835977, 0.042328042328042326, 0.43386243386243384, 0.19642857142857142, 0.7857142857142857, 0.064676616915422883, 0.93532338308457708, 1.0, 0.23076923076923078, 0.032258064516129031, 0.69975186104218368, 0.037220843672456573, 1.0, 0.20000000000000001, 0.3073170731707317, 0.33658536585365856, 0.15609756097560976, 0.42857142857142855, 0.5714285714285714, 0.0080321285140562242, 0.028112449799196786, 0.32128514056224899, 0.64658634538152615, 0.38028169014084506, 0.063380281690140844, 0.028169014084507043, 0.084507042253521125, 0.43661971830985913, 0.97916666666666663, 1.0, 0.37735849056603776, 0.025157232704402517, 0.5911949685534591, 1.0, 0.61469534050179209, 0.37455197132616486, 0.0089605734767025085, 1.0, 1.0, 1.0, 1.0, 0.19282511210762332, 0.80269058295964124, 1.0, 0.98863636363636365, 0.25862068965517243, 0.40000000000000002, 0.017241379310344827, 0.13793103448275862, 0.18620689655172415, 0.40809443507588533, 0.13322091062394603, 0.40978077571669475, 0.021922428330522766, 0.026981450252951095, 0.35493827160493829, 0.23765432098765432, 0.40432098765432101, 0.56097560975609762, 0.37398373983739835, 0.056910569105691054, 1.0, 1.0, 0.89542483660130723, 0.013071895424836602, 0.091503267973856203, 0.5, 0.22794117647058823, 0.26470588235294118, 1.0, 0.9821428571428571, 1.0, 0.089576547231270356, 0.048859934853420196, 0.78990228013029318, 0.071661237785016291, 1.0, 0.02159827213822894, 0.09719222462203024, 0.87473002159827218, 0.0053995680345572351, 0.5, 0.5, 0.055276381909547742, 0.9346733668341709, 0.007537688442211055, 1.0, 1.0, 0.22705314009661837, 0.76328502415458932, 0.0096618357487922701, 1.0, 0.8586387434554974, 0.094240837696335081, 0.005235602094240838, 0.041884816753926704, 0.24914675767918087, 0.29010238907849828, 0.16040955631399317, 0.11945392491467577, 0.037542662116040959, 0.13993174061433447, 0.040000000000000001, 0.94666666666666666, 0.15384615384615385, 0.0022624434389140274, 0.84162895927601811, 1.0, 0.13235294117647059, 0.058823529411764705, 0.80882352941176472, 1.0, 1.0, 0.9642857142857143, 0.99504950495049505, 0.75, 0.16666666666666666, 1.0, 1.0, 1.0, 1.0, 1.0, 0.94444444444444442, 0.40625, 0.4017857142857143, 0.19196428571428573, 0.17241379310344829, 0.82068965517241377, 0.0068965517241379309, 0.14285714285714285, 0.84285714285714286, 1.0, 1.0, 1.0, 0.47138964577656678, 0.49591280653950953, 0.032697547683923703, 0.16279069767441862, 0.0613107822410148, 0.057082452431289642, 0.1839323467230444, 0.53488372093023251, 1.0, 1.0, 0.6996699669966997, 0.29702970297029702, 0.98148148148148151, 0.3595505617977528, 0.084269662921348312, 0.11235955056179775, 0.43820224719101125, 1.0, 1.0, 0.056603773584905662, 0.51886792452830188, 0.094339622641509441, 0.330188679245283, 0.70909090909090911, 0.08545454545454545, 0.19272727272727272, 0.012727272727272728, 1.0, 1.0, 1.0, 1.0, 1.0, 0.38260869565217392, 0.16956521739130434, 0.18695652173913044, 0.034782608695652174, 0.078260869565217397, 0.14347826086956522, 0.18852459016393441, 0.13114754098360656, 0.68032786885245899, 1.0, 1.0, 0.83333333333333337, 1.0, 0.095454545454545459, 0.11818181818181818, 0.38636363636363635, 0.15454545454545454, 0.072727272727272724, 0.16818181818181818, 0.95999999999999996, 0.14634146341463414, 0.82926829268292679, 1.0, 0.81666666666666665, 0.17777777777777778, 0.30102040816326531, 0.66836734693877553, 0.025510204081632654, 0.25750000000000001, 0.14249999999999999, 0.45000000000000001, 0.022499999999999999, 0.014999999999999999, 0.11, 0.83646112600536193, 0.16085790884718498, 0.11320754716981132, 0.86792452830188682, 0.41267123287671231, 0.25684931506849318, 0.29965753424657532, 0.030821917808219176, 1.0, 1.0, 0.51734104046242779, 0.14450867052023122, 0.054913294797687862, 0.10982658959537572, 0.15606936416184972, 0.017341040462427744, 0.97674418604651159, 1.0, 0.98275862068965514, 1.0, 1.0, 0.94736842105263153, 1.0, 1.0, 1.0, 0.89638554216867472, 0.016867469879518072, 0.085542168674698799, 0.15454545454545454, 0.16363636363636364, 0.67272727272727273, 0.029411764705882353, 0.94117647058823528, 0.98648648648648651, 0.70949720670391059, 0.027932960893854747, 0.036312849162011177, 0.04189944134078212, 0.1787709497206704, 0.0027932960893854749, 1.0, 0.1156677181913775, 0.019978969505783387, 0.83280757097791802, 0.031545741324921134, 1.0, 1.0, 0.96296296296296291, 1.0, 0.069672131147540978, 0.89754098360655743, 0.028688524590163935, 0.18329466357308585, 0.16705336426914152, 0.6218097447795824, 0.025522041763341066, 0.19708029197080293, 0.063868613138686137, 0.73905109489051091, 1.0, 0.092105263157894732, 0.88157894736842102, 1.0, 0.084033613445378158, 0.050420168067226892, 0.81092436974789917, 0.050420168067226892, 0.58091787439613529, 0.29106280193236717, 0.11352657004830918, 0.013285024154589372, 0.17704918032786884, 0.13770491803278689, 0.66885245901639345, 0.016393442622950821, 1.0, 1.0, 0.94444444444444442, 0.95833333333333337, 0.37781954887218044, 0.33270676691729323, 0.065789473684210523, 0.041353383458646614, 0.05827067669172932, 0.12218045112781954, 1.0, 1.0, 0.86693548387096775, 0.0040322580645161289, 0.12096774193548387, 1.0, 1.0, 0.88079470198675491, 0.026490066225165563, 0.086092715231788075, 1.0, 1.0, 1.0, 1.0, 0.79166666666666663, 0.16666666666666666, 0.64171122994652408, 0.35561497326203206, 1.0, 1.0, 1.0, 1.0, 1.0, 1.0, 1.0, 1.0, 0.44217687074829931, 0.55102040816326525, 1.0, 0.96153846153846156, 0.1484848484848485, 0.06363636363636363, 0.7848484848484848, 0.10911424903722722, 0.035943517329910142, 0.096277278562259302, 0.75866495507060339, 1.0, 1.0, 1.0, 1.0, 1.0, 1.0, 1.0, 1.0, 0.10810810810810811, 0.7567567567567568, 0.13513513513513514, 0.83673469387755106, 0.14285714285714285, 0.3644859813084112, 0.14953271028037382, 0.47663551401869159, 0.45985401459854014, 0.23357664233576642, 0.30656934306569344, 1.0, 0.40606060606060607, 0.47474747474747475, 0.076767676767676762, 0.026262626262626262, 0.014141414141414142, 1.0, 1.0, 0.93333333333333335, 0.39160839160839161, 0.48018648018648019, 0.074592074592074592, 0.05128205128205128, 1.0, 1.0, 0.9258160237388724, 0.047477744807121663, 0.023738872403560832, 0.95454545454545459, 0.036363636363636362, 0.96314496314496312, 0.036855036855036855, 0.9981378026070763, 0.215962441314554, 0.42879499217527389, 0.26604068857589985, 0.051643192488262914, 0.037558685446009391, 1.0, 1.0, 1.0, 0.9468599033816425, 0.043478260869565216, 0.004830917874396135, 1.0, 0.99065420560747663, 0.98701298701298701, 0.99428571428571433, 0.96153846153846156, 1.0, 0.054054054054054057, 0.90540540540540537, 0.027027027027027029, 0.15577889447236182, 0.10050251256281408, 0.2613065326633166, 0.095477386934673364, 0.29648241206030151, 0.06030150753768844, 0.03015075376884422, 0.46280991735537191, 0.016528925619834711, 0.51239669421487599, 0.97674418604651159, 1.0, 0.044444444444444446, 0.044444444444444446, 0.88888888888888884, 1.0, 1.0, 1.0, 1.0, 1.0, 1.0, 0.027397260273972601, 0.87671232876712324, 0.027397260273972601, 0.027397260273972601, 0.041095890410958902, 1.0, 1.0, 1.0, 1.0, 1.0, 0.2254259501965924, 0.76933158584534733, 0.0052424639580602884, 0.99450549450549453, 1.0, 1.0, 0.9375, 1.0, 0.014925373134328358, 0.9850746268656716, 0.98148148148148151, 1.0, 0.48190789473684209, 0.080592105263157895, 0.3125, 0.082236842105263164, 0.041118421052631582, 0.94999999999999996, 1.0, 0.9101123595505618, 0.078651685393258425, 1.0, 1.0, 0.6645161290322581, 0.051612903225806452, 0.18279569892473119, 0.090322580645161285, 0.010752688172043012, 1.0, 1.0, 1.0, 0.32653061224489793, 0.66326530612244894, 0.14081145584725538, 0.85680190930787592, 0.5494505494505495, 0.14285714285714285, 0.17032967032967034, 0.13186813186813187, 0.96153846153846156, 0.967741935483871, 1.0, 0.75147928994082835, 0.076923076923076927, 0.17159763313609466, 0.39711934156378603, 0.072016460905349799, 0.42078189300411523, 0.031893004115226338, 0.07716049382716049, 1.0, 0.055555555555555552, 0.83333333333333337, 0.1111111111111111, 0.11363636363636363, 0.86363636363636365, 0.081967213114754092, 0.22404371584699453, 0.065573770491803282, 0.62295081967213117, 1.0, 1.0, 1.0, 0.95652173913043481, 0.22727272727272727, 0.75757575757575757, 1.0, 1.0, 1.0, 1.0, 1.0, 1.0, 1.0, 0.16129032258064516, 0.048387096774193547, 0.782258064516129, 0.44011142061281339, 0.10445682451253482, 0.41225626740947074, 0.041782729805013928, 1.0, 1.0, 1.0, 1.0, 1.0, 1.0, 0.9642857142857143, 1.0, 0.98571428571428577, 1.0, 0.30092592592592593, 0.60648148148148151, 0.069444444444444448, 0.018518518518518517, 0.11674641148325358, 0.27942583732057419, 0.0066985645933014355, 0.59712918660287084, 1.0, 0.33815028901734107, 0.089595375722543349, 0.25433526011560692, 0.034682080924855488, 0.049132947976878616, 0.16763005780346821, 0.043352601156069363, 0.017341040462427744, 1.0, 1.0, 1.0, 1.0, 0.17647058823529413, 0.29065743944636679, 0.031141868512110725, 0.5017301038062284, 0.9971910112359551, 1.0, 0.15261958997722094, 0.063781321184510256, 0.35990888382687924, 0.42369020501138954, 1.0, 1.0, 1.0, 1.0, 1.0, 1.0, 1.0, 1.0, 1.0, 1.0, 1.0, 0.99581589958159, 1.0, 1.0, 1.0, 0.23333333333333334, 0.073333333333333334, 0.12666666666666668, 0.56000000000000005, 1.0, 1.0, 0.2904761904761905, 0.10000000000000001, 0.35714285714285715, 0.061904761904761907, 0.17142857142857143, 0.019047619047619049, 1.0, 1.0, 0.51861360718870342, 0.29011553273427471, 0.037227214377406934, 0.15275994865211809, 0.2613065326633166, 0.30276381909547739, 0.38567839195979897, 0.050251256281407038, 0.37209302325581395, 0.5852713178294574, 0.042635658914728682, 0.99465240641711228, 0.6070110701107011, 0.26845018450184505, 0.021217712177121772, 0.046125461254612546, 0.0055350553505535052, 0.051660516605166053, 1.0, 0.97777777777777775, 1.0, 0.16037735849056603, 0.72169811320754718, 0.11320754716981132, 1.0, 1.0, 0.13793103448275862, 0.85344827586206895, 0.068181818181818177, 0.29545454545454547, 0.61363636363636365, 1.0, 1.0, 1.0, 0.98989898989898994, 0.0050505050505050509, 1.0, 1.0, 0.44796747967479672, 0.063414634146341464, 0.023577235772357725, 0.14552845528455285, 0.31869918699186994, 1.0, 1.0, 0.08908507223113965, 0.015248796147672551, 0.826645264847512, 0.02969502407704655, 0.039325842696629212, 0.64870259481037928, 0.10778443113772455, 0.22554890219560877, 0.015968063872255488, 0.55462184873949583, 0.14873949579831933, 0.23193277310924371, 0.0226890756302521, 0.0226890756302521, 0.014285714285714285, 0.0042016806722689074, 1.0, 0.99305555555555558, 1.0, 0.2153846153846154, 0.2846153846153846, 0.49230769230769234, 0.054421768707482991, 0.93877551020408168, 1.0, 0.75144508670520227, 0.10404624277456648, 0.13294797687861271, 1.0, 0.23012552301255229, 0.48535564853556484, 0.066945606694560664, 0.008368200836820083, 0.20502092050209206, 1.0, 0.9838709677419355, 1.0, 0.19148936170212766, 0.71276595744680848, 0.031914893617021274, 0.031914893617021274, 0.021276595744680851, 0.98965517241379308, 0.0068965517241379309, 1.0, 1.0, 1.0, 0.42352941176470588, 0.19529411764705881, 0.063529411764705876, 0.31529411764705884, 0.060139860139860141, 0.013986013986013986, 0.46013986013986014, 0.31328671328671331, 0.12447552447552447, 0.027972027972027972, 0.79844961240310075, 0.19379844961240311, 0.28611111111111109, 0.013888888888888888, 0.65555555555555556, 0.041666666666666664, 1.0, 1.0, 1.0, 0.98611111111111116, 0.48641304347826086, 0.38451086956521741, 0.088315217391304351, 0.03940217391304348, 0.081005586592178769, 0.044692737430167599, 0.075418994413407825, 0.7960893854748603, 0.96875, 1.0, 0.15454545454545454, 0.83636363636363631, 0.14545454545454545, 0.83636363636363631, 0.87919463087248317, 0.11409395973154363, 1.0, 1.0, 1.0, 0.97142857142857142, 1.0, 0.25647058823529412, 0.49411764705882355, 0.24941176470588236, 0.029209621993127148, 0.10481099656357389, 0.020618556701030927, 0.8436426116838488, 0.44514106583072099, 0.49686520376175547, 0.056426332288401257, 0.55342465753424652, 0.09452054794520548, 0.20136986301369864, 0.10136986301369863, 0.049315068493150684, 1.0, 0.0087336244541484712, 0.22707423580786026, 0.75982532751091703, 0.067567567567567571, 0.86486486486486491, 0.067567567567567571, 1.0, 0.97619047619047616, 0.90909090909090906, 0.6005067567567568, 0.086993243243243243, 0.11486486486486487, 0.039695945945945943, 0.15287162162162163, 0.0050675675675675678, 0.10679611650485436, 0.11650485436893204, 0.38349514563106796, 0.38349514563106796, 0.0048543689320388345, 0.28273809523809523, 0.10714285714285714, 0.17857142857142858, 0.42857142857142855, 0.15168539325842698, 0.033707865168539325, 0.6685393258426966, 0.1404494382022472, 0.11278195488721804, 0.015037593984962405, 0.86842105263157898, 0.17114914425427874, 0.11980440097799511, 0.70660146699266502, 0.29182879377431908, 0.26848249027237353, 0.09727626459143969, 0.34241245136186771, 1.0, 0.83846153846153848, 0.15384615384615385, 1.0, 0.35064935064935066, 0.20779220779220781, 0.42857142857142855, 1.0, 1.0, 0.54406130268199238, 0.27969348659003829, 0.028735632183908046, 0.11494252873563218, 0.032567049808429116, 1.0, 0.2857142857142857, 0.7142857142857143, 0.98039215686274506, 1.0, 1.0, 1.0, 0.43137254901960786, 0.5490196078431373, 1.0, 0.42073170731707316, 0.57317073170731703, 1.0, 1.0, 1.0, 0.33920704845814981, 0.035242290748898682, 0.51101321585903081, 0.11453744493392071, 0.97297297297297303, 1.0, 0.24365482233502539, 0.14720812182741116, 0.27411167512690354, 0.096446700507614211, 0.23857868020304568, 1.0, 1.0, 1.0, 1.0, 0.51196172248803828, 0.48325358851674644, 0.90000000000000002, 0.10000000000000001, 1.0, 0.17537313432835822, 0.16417910447761194, 0.041044776119402986, 0.052238805970149252, 0.56343283582089554, 0.9838709677419355, 1.0, 1.0, 1.0, 1.0, 1.0, 0.073891625615763554, 0.85550082101806235, 0.068965517241379309, 1.0, 0.03484320557491289, 0.0034843205574912892, 0.95818815331010454, 0.96153846153846156, 0.10000000000000001, 0.025000000000000001, 0.82499999999999996, 1.0, 0.69784172661870503, 0.20143884892086331, 0.093525179856115109, 0.55741935483870964, 0.058064516129032261, 0.1664516129032258, 0.087741935483870964, 0.12903225806451613, 1.0, 1.0, 1.0, 1.0, 1.0, 1.0, 0.99801192842942343, 0.99690402476780182, 1.0, 1.0, 0.9882352941176471, 0.011764705882352941, 1.0, 1.0, 1.0, 0.47800829875518674, 0.16265560165975104, 0.1078838174273859, 0.055601659751037341, 0.037344398340248962, 0.15850622406639003, 1.0, 0.8571428571428571, 1.0, 1.0, 1.0, 0.64556962025316456, 0.29804372842347526, 0.055235903337169157, 0.21904761904761905, 0.35238095238095241, 0.11428571428571428, 0.047619047619047616, 0.25714285714285712, 0.125, 0.8125, 1.0, 1.0, 1.0, 0.040000000000000001, 0.93999999999999995, 0.51317829457364339, 0.21705426356589147, 0.14263565891472868, 0.051162790697674418, 0.075968992248062014, 0.099520383693045569, 0.88968824940047964, 0.010791366906474821, 1.0, 0.16013071895424835, 0.46405228758169936, 0.13235294117647059, 0.21568627450980393, 0.024509803921568627, 0.019292604501607719, 0.97427652733118975, 0.0032154340836012861, 0.47222222222222221, 0.32142857142857145, 0.20238095238095238, 0.44811320754716982, 0.54716981132075471, 1.0, 1.0, 1.0, 1.0, 1.0, 1.0, 0.97619047619047616, 0.023809523809523808, 1.0, 0.98630136986301364, 1.0, 1.0, 0.95454545454545459, 1.0, 1.0, 1.0, 0.53648068669527893, 0.085836909871244635, 0.13304721030042918, 0.051502145922746781, 0.19313304721030042, 1.0, 0.41666666666666669, 0.33888888888888891, 0.013888888888888888, 0.14999999999999999, 0.074999999999999997, 1.0, 0.9850746268656716, 0.017412935323383085, 0.1417910447761194, 0.014925373134328358, 0.4079601990049751, 0.41791044776119401, 1.0, 1.0, 0.58675078864353314, 0.034700315457413249, 0.32176656151419558, 0.05362776025236593, 0.43070127001656544, 0.19823302043070126, 0.03202650469353948, 0.024295969077857537, 0.22142462727774709, 0.018774157923799006, 0.025952512424075095, 0.048591938155715074, 1.0, 0.94999999999999996, 0.97959183673469385, 1.0, 1.0, 0.96153846153846156, 1.0, 0.875, 0.49283667621776506, 0.23209169054441262, 0.054441260744985676, 0.12607449856733524, 0.094555873925501438, 0.033088235294117647, 0.94485294117647056, 0.018382352941176471, 0.38740458015267176, 0.095419847328244281, 0.51145038167938928, 0.0038167938931297708, 0.10734463276836158, 0.036723163841807911, 0.80084745762711862, 0.052259887005649715, 0.093457943925233641, 0.61682242990654201, 0.14953271028037382, 0.14018691588785046, 0.94545454545454544, 0.054545454545454543, 0.040540540540540543, 0.14189189189189189, 0.81081081081081086, 0.19413919413919414, 0.26739926739926739, 0.047619047619047616, 0.073260073260073263, 0.15384615384615385, 0.26007326007326009, 1.0, 1.0, 1.0, 1.0, 1.0, 0.85540334855403344, 0.14307458143074581, 0.88888888888888884, 0.20679886685552407, 0.076487252124645896, 0.67563739376770537, 0.039660056657223795, 0.33781763826606875, 0.12705530642750373, 0.30418535127055307, 0.039611360239162931, 0.020179372197309416, 0.1711509715994021, 1.0, 0.16422764227642275, 0.037398373983739838, 0.72845528455284558, 0.0048780487804878049, 0.063414634146341464, 0.41847826086956524, 0.3641304347826087, 0.067934782608695649, 0.04619565217391304, 0.10054347826086957, 0.99762470308788598, 0.9921875, 0.23287671232876711, 0.26940639269406391, 0.063926940639269403, 0.31963470319634701, 0.11415525114155251, 0.99300699300699302, 1.0, 0.17808219178082191, 0.19178082191780821, 0.61643835616438358, 1.0, 1.0, 1.0, 0.10416666666666667, 0.875, 0.14583333333333334, 0.088541666666666671, 0.47916666666666669, 0.28125, 1.0, 1.0, 0.58659217877094971, 0.41340782122905029, 1.0, 1.0, 1.0, 1.0, 1.0, 1.0, 1.0, 1.0, 0.9850746268656716, 1.0, 1.0, 1.0, 0.67984934086629001, 0.19209039548022599, 0.032015065913370999, 0.094161958568738227, 1.0, 1.0, 1.0, 1.0, 1.0, 0.96527777777777779, 0.027777777777777776, 1.0, 1.0, 1.0, 0.98780487804878048, 1.0, 0.98863636363636365, 1.0, 1.0, 0.95652173913043481, 1.0, 1.0, 1.0, 0.94444444444444442, 1.0, 0.42241379310344829, 0.56896551724137934, 0.28865979381443296, 0.13402061855670103, 0.5670103092783505, 1.0, 1.0, 1.0, 0.046125461254612546, 0.17158671586715868, 0.74907749077490771, 0.03136531365313653, 0.091703056768558958, 0.90393013100436681, 1.0, 0.94999999999999996, 0.1871345029239766, 0.018713450292397661, 0.7929824561403509, 0.99719887955182074, 1.0, 0.42793791574279377, 0.16186252771618626, 0.15964523281596452, 0.22616407982261641, 0.022172949002217297, 1.0, 0.99009900990099009, 0.21153846153846154, 0.76923076923076927, 0.18716577540106952, 0.10338680926916222, 0.57219251336898391, 0.017825311942959002, 0.098039215686274508, 0.019607843137254902, 1.0, 0.052208835341365459, 0.058232931726907633, 0.8875502008032129, 1.0, 1.0, 1.0, 0.1743119266055046, 0.22018348623853212, 0.10091743119266056, 0.027522935779816515, 0.46788990825688076, 1.0, 1.0, 1.0, 0.67259786476868333, 0.30427046263345198, 0.021352313167259787, 0.13520197856553998, 0.32728771640560594, 0.51937345424567194, 0.016488046166529265, 0.0016488046166529267, 0.55967078189300412, 0.43827160493827161, 0.00205761316872428, 1.0, 1.0, 1.0, 1.0, 0.68455640744797375, 0.21248630887185105, 0.085432639649507119, 0.010952902519167579, 0.0065717415115005475, 0.99641577060931896, 1.0, 1.0, 1.0, 1.0, 1.0], \"Term\": [\"aab\", \"abort\", \"abort\", \"abu\", \"ackerman\", \"acquaint\", \"acr\", \"activist\", \"activist\", \"activist\", \"adc\", \"add\", \"add\", \"add\", \"add\", \"address\", \"address\", \"address\", \"address\", \"address\", \"adept\", \"adject\", \"adjourn\", \"administr\", \"administr\", \"administr\", \"advent\", \"advis\", \"advis\", \"advis\", \"advis\", \"afgh\", \"afghanistan\", \"afghanistan\", \"aftach\", \"agoa\", \"aid\", \"aid\", \"aid\", \"aid\", \"air\", \"air\", \"air\", \"airport\", \"ajumogobia\", \"ake\", \"albanian\", \"also\", \"also\", \"also\", \"also\", \"ambassador\", \"ambassador\", \"ambassador\", \"ambassador\", \"ambassador\", \"america\", \"america\", \"america\", \"america\", \"american\", \"american\", \"american\", \"american\", \"american\", \"amidst\", \"among\", \"among\", \"among\", \"among\", \"among\", \"andi\", \"andrew\", \"andrew\", \"andrew\", \"andrew\", \"anna\", \"anoint\", \"antoni\", \"aorta\", \"aorta\", \"appetit\", \"approach\", \"approach\", \"approv\", \"approv\", \"approv\", \"arab\", \"arab\", \"arbit\", \"argentina\", \"arizona\", \"arriv\", \"arsenal\", \"articl\", \"articl\", \"articl\", \"articl\", \"asap\", \"asap\", \"ask\", \"ask\", \"ask\", \"assang\", \"assist\", \"assist\", \"assist\", \"assist\", \"assist\", \"assist\", \"assist\", \"asylum\", \"australian\", \"austrian\", \"austrian\", \"avon\", \"back\", \"back\", \"back\", \"back\", \"backstori\", \"bah\", \"bali\", \"bali\", \"ballist\", \"balloonist\", \"bart\", \"beck\", \"beck\", \"bibi\", \"bibi\", \"biden\", \"biden\", \"bider\", \"bike\", \"bilater\", \"bilater\", \"bill\", \"bill\", \"bill\", \"bill\", \"bill\", \"bill\", \"billboard\", \"bingo\", \"binta\", \"birch\", \"birthday\", \"birthday\", \"blogospher\", \"bloomberg\", \"boat\", \"bob\", \"bob\", \"bob\", \"bob\", \"boehner\", \"bono\", \"book\", \"book\", \"book\", \"book\", \"booster\", \"braini\", \"branch\", \"branch\", \"branch\", \"brief\", \"brief\", \"brief\", \"brook\", \"brown\", \"brown\", \"brown\", \"brown\", \"brown\", \"bullock\", \"burial\", \"busi\", \"busi\", \"busi\", \"busi\", \"businessweek\", \"cabl\", \"cabl\", \"cal\", \"call\", \"call\", \"call\", \"call\", \"camera\", \"cameron\", \"campaign\", \"campaign\", \"campaign\", \"campaign\", \"campaign\", \"cancun\", \"candid\", \"candid\", \"capitol\", \"capitol\", \"care\", \"care\", \"care\", \"care\", \"care\", \"care\", \"care\", \"cargo\", \"carol\", \"carol\", \"carriag\", \"cathi\", \"cco\", \"ceas\", \"celestin\", \"chapter\", \"charl\", \"charl\", \"charl\", \"chief\", \"chief\", \"chief\", \"chief\", \"chin\", \"chinni\", \"church\", \"church\", \"church\", \"citizen\", \"citizen\", \"citizen\", \"claim\", \"claim\", \"claim\", \"clean\", \"clean\", \"climat\", \"clotur\", \"clotur\", \"cob\", \"come\", \"come\", \"come\", \"come\", \"committe\", \"committe\", \"committe\", \"committe\", \"communist\", \"communist\", \"compani\", \"compani\", \"compuls\", \"confer\", \"confer\", \"confer\", \"confer\", \"conflictand\", \"congress\", \"congress\", \"congress\", \"congress\", \"consent\", \"consent\", \"conserv\", \"conserv\", \"conserv\", \"conserv\", \"contact\", \"contact\", \"contact\", \"contact\", \"contact\", \"context\", \"contiaentia\", \"copi\", \"copi\", \"copi\", \"cosign\", \"countri\", \"countri\", \"countri\", \"countryman\", \"cowardic\", \"cullerton\", \"dac\", \"daili\", \"daili\", \"dalin\", \"danger\", \"david\", \"david\", \"david\", \"david\", \"david\", \"day\", \"day\", \"day\", \"day\", \"day\", \"deal\", \"deal\", \"deal\", \"death\", \"death\", \"death\", \"deathb\", \"decibel\", \"defens\", \"defens\", \"defens\", \"deliv\", \"deliv\", \"deliv\", \"dellum\", \"dem\", \"demean\", \"democrat\", \"democrat\", \"democrat\", \"democrat\", \"dempsey\", \"depart\", \"depart\", \"depart\", \"depart\", \"des\", \"des\", \"develop\", \"develop\", \"develop\", \"diann\", \"diff\", \"diplomaci\", \"diplomaci\", \"diplomaci\", \"diplomacychapt\", \"diplomat\", \"diplomat\", \"diplomat\", \"diplomat\", \"direct\", \"direct\", \"direct\", \"direct\", \"direct\", \"direct\", \"disapprov\", \"disapprov\", \"discuss\", \"discuss\", \"discuss\", \"diskin\", \"district\", \"district\", \"district\", \"doc\", \"doe\", \"donilon\", \"draft\", \"drink\", \"drink\", \"drool\", \"dubrin\", \"duck\", \"duddi\", \"duke\", \"durbin\", \"east\", \"east\", \"east\", \"econom\", \"econom\", \"econom\", \"edit\", \"edit\", \"editori\", \"edmond\", \"efe\", \"effort\", \"effort\", \"effort\", \"elect\", \"elect\", \"elect\", \"elect\", \"elect\", \"elis\", \"elleveld\", \"email\", \"email\", \"emanuel\", \"enough\", \"enough\", \"enough\", \"enough\", \"entranc\", \"entwin\", \"etc\", \"etc\", \"etc\", \"etc\", \"even\", \"even\", \"even\", \"even\", \"eviy\", \"expiri\", \"extravag\", \"faith\", \"famera\", \"famili\", \"famili\", \"famili\", \"famili\", \"famili\", \"famili\", \"favor\", \"favor\", \"favor\", \"fealti\", \"ferret\", \"fervent\", \"fgm\", \"final\", \"final\", \"final\", \"final\", \"final\", \"final\", \"flexibl\", \"flight\", \"flight\", \"flippanc\", \"floor\", \"floor\", \"focus\", \"focus\", \"focus\", \"follow\", \"follow\", \"follow\", \"follow\", \"follow\", \"follow\", \"forc\", \"forc\", \"ford\", \"ford\", \"foreign\", \"foreign\", \"foreign\", \"foreign\", \"forest\", \"forgot\", \"former\", \"former\", \"former\", \"former\", \"former\", \"former\", \"fox\", \"foyer\", \"freez\", \"freier\", \"frost\", \"fuch\", \"fuddi\", \"fune\", \"furstenberg\", \"fyi\", \"fyi\", \"fyi\", \"gate\", \"gate\", \"gate\", \"gay\", \"gay\", \"gaza\", \"general\", \"general\", \"general\", \"general\", \"general\", \"general\", \"geni\", \"get\", \"get\", \"get\", \"get\", \"ghast\", \"ghostlik\", \"glenn\", \"gliffa\", \"global\", \"global\", \"global\", \"go\", \"go\", \"go\", \"go\", \"good\", \"good\", \"good\", \"goodby\", \"gore\", \"gore\", \"gossipi\", \"got\", \"got\", \"got\", \"got\", \"govern\", \"govern\", \"govern\", \"govern\", \"great\", \"great\", \"great\", \"great\", \"greenwich\", \"gregari\", \"gregg\", \"grid\", \"group\", \"group\", \"group\", \"group\", \"group\", \"group\", \"guido\", \"haim\", \"haiti\", \"haiti\", \"haiti\", \"hampshir\", \"hanukkah\", \"happi\", \"happi\", \"happi\", \"happili\", \"harpar\", \"harrow\", \"haxhinasto\", \"headquart\", \"headquart\", \"health\", \"health\", \"hearst\", \"hearten\", \"heck\", \"hend\", \"hendrik\", \"hertzberg\", \"hjnl\", \"hochberg\", \"holbrook\", \"holbrook\", \"holbrookel\", \"honduran\", \"hope\", \"hope\", \"hope\", \"hous\", \"hous\", \"hous\", \"hous\", \"houston\", \"hst\", \"htm\", \"humankind\", \"hwan\", \"hyperact\", \"idiot\", \"ier\", \"iii\", \"iii\", \"iii\", \"ill\", \"ill\", \"imag\", \"imag\", \"imag\", \"immedi\", \"immedi\", \"immedi\", \"imprimatur\", \"includ\", \"includ\", \"includ\", \"includ\", \"includ\", \"injunct\", \"innermost\", \"insight\", \"intern\", \"intern\", \"intern\", \"intern\", \"interrelationship\", \"interreligi\", \"iran\", \"iran\", \"iran\", \"ireland\", \"ireland\", \"isra\", \"isra\", \"israel\", \"issu\", \"issu\", \"issu\", \"issu\", \"issu\", \"ivoir\", \"izaibeth\", \"jacob\", \"jake\", \"jake\", \"jake\", \"jeann\", \"jerusalem\", \"jew\", \"jewish\", \"joann\", \"jockey\", \"joe\", \"joe\", \"joe\", \"john\", \"john\", \"john\", \"john\", \"john\", \"john\", \"john\", \"jone\", \"jone\", \"jone\", \"juarez\", \"judd\", \"judith\", \"judith\", \"judith\", \"julian\", \"kadima\", \"kao\", \"karoak\", \"kathleen\", \"kean\", \"kennedi\", \"kennedi\", \"kennedi\", \"kennedi\", \"kennedi\", \"khe\", \"kincaid\", \"kinney\", \"kiss\", \"kive\", \"know\", \"know\", \"know\", \"koch\", \"kornblum\", \"kuwaiti\", \"kyl\", \"labatt\", \"labour\", \"labour\", \"laguardia\", \"lakshaman\", \"last\", \"last\", \"last\", \"last\", \"last\", \"laszczych\", \"launcher\", \"lauren\", \"lauren\", \"lauro\", \"lbgt\", \"leader\", \"leader\", \"leader\", \"leader\", \"leader\", \"leak\", \"leas\", \"leecia\", \"legisl\", \"legisl\", \"let\", \"let\", \"letter\", \"letter\", \"letter\", \"letter\", \"libertarian\", \"lieberman\", \"lieu\", \"life\", \"life\", \"life\", \"like\", \"like\", \"like\", \"like\", \"like\", \"likud\", \"lincoln\", \"lincoln\", \"lincoln\", \"lissa\", \"lissa\", \"list\", \"list\", \"list\", \"list\", \"littler\", \"livni\", \"llama\", \"llosa\", \"lobbyist\", \"lobbyist\", \"loeser\", \"loomber\", \"loomberg\", \"luxor\", \"madigan\", \"maehara\", \"magic\", \"mail\", \"mail\", \"mail\", \"make\", \"make\", \"make\", \"make\", \"manigault\", \"marco\", \"marigold\", \"martieili\", \"marton\", \"maryann\", \"massachusett\", \"mauricio\", \"mayor\", \"mazen\", \"media\", \"media\", \"media\", \"media\", \"meet\", \"meet\", \"meet\", \"meet\", \"mein\", \"member\", \"member\", \"member\", \"member\", \"member\", \"member\", \"member\", \"member\", \"meridian\", \"meridor\", \"mesmer\", \"messa\", \"messag\", \"messag\", \"messag\", \"messag\", \"militari\", \"mingl\", \"minist\", \"minist\", \"minist\", \"minist\", \"misde\", \"mishandl\", \"misplac\", \"missi\", \"missil\", \"molcho\", \"molcoh\", \"mold\", \"mona\", \"monarch\", \"mondal\", \"morn\", \"mort\", \"moscow\", \"motho\", \"movement\", \"movement\", \"movement\", \"movement\", \"mubatak\", \"mulcahi\", \"name\", \"name\", \"name\", \"name\", \"name\", \"name\", \"nasaw\", \"nasr\", \"nation\", \"nation\", \"nation\", \"nation\", \"need\", \"need\", \"need\", \"need\", \"negoti\", \"negoti\", \"negoti\", \"netanyahu\", \"new\", \"new\", \"new\", \"new\", \"new\", \"new\", \"newyo\", \"nice\", \"nigerian\", \"night\", \"night\", \"night\", \"norad\", \"nordic\", \"northern\", \"northern\", \"nov\", \"nov\", \"nov\", \"novogartz\", \"nss\", \"ntab\", \"nuclear\", \"nuclear\", \"nugget\", \"nypl\", \"obama\", \"obama\", \"obama\", \"obama\", \"obama\", \"oddest\", \"odein\", \"offic\", \"offic\", \"offic\", \"offic\", \"offic\", \"offici\", \"offici\", \"offici\", \"offici\", \"one\", \"one\", \"one\", \"one\", \"one\", \"one\", \"one\", \"oniy\", \"op\", \"ophelia\", \"opinion\", \"opinion\", \"opinion\", \"opportun\", \"opportun\", \"orat\", \"order\", \"order\", \"order\", \"ordinarili\", \"organ\", \"organ\", \"organ\", \"organ\", \"organ\", \"osteen\", \"outer\", \"overus\", \"page\", \"page\", \"page\", \"page\", \"page\", \"palestinian\", \"palestinian\", \"palin\", \"panamanian\", \"pant\", \"part\", \"part\", \"part\", \"part\", \"parti\", \"parti\", \"parti\", \"parti\", \"parti\", \"parti\", \"partner\", \"partner\", \"peac\", \"peac\", \"peac\", \"peac\", \"peacemak\", \"peacenik\", \"peninsula\", \"pentagon\", \"peopl\", \"peopl\", \"peopl\", \"peopl\", \"percent\", \"percent\", \"percent\", \"percent\", \"persuad\", \"petit\", \"petraeus\", \"petraeus\", \"philipp\", \"philipp\", \"photo\", \"photo\", \"piano\", \"pincus\", \"pinstrip\", \"pir\", \"pis\", \"plan\", \"plan\", \"plan\", \"pleas\", \"pleas\", \"pleas\", \"pleas\", \"polici\", \"polici\", \"polici\", \"polit\", \"polit\", \"polit\", \"polit\", \"polit\", \"politburo\", \"poll\", \"poll\", \"poll\", \"pre\", \"pre\", \"pre\", \"preambl\", \"prein\", \"preserv\", \"presid\", \"presid\", \"presid\", \"presid\", \"presid\", \"presid\", \"presidenti\", \"presidenti\", \"presidenti\", \"presidenti\", \"presidenti\", \"press\", \"press\", \"press\", \"press\", \"prime\", \"prime\", \"prime\", \"prime\", \"print\", \"print\", \"print\", \"privat\", \"privat\", \"privat\", \"process\", \"process\", \"process\", \"process\", \"prodigi\", \"project\", \"project\", \"proselyt\", \"protest\", \"protest\", \"protest\", \"psc\", \"psychosi\", \"public\", \"public\", \"public\", \"public\", \"public\", \"pud\", \"putin\", \"putin\", \"qddr\", \"queasi\", \"quinlan\", \"rake\", \"ralli\", \"ralli\", \"ranker\", \"rate\", \"rate\", \"ratif\", \"ratifi\", \"rbg\", \"read\", \"read\", \"read\", \"read\", \"readout\", \"reallli\", \"receiv\", \"receiv\", \"receiv\", \"receiv\", \"receiv\", \"redesign\", \"redevelop\", \"redraw\", \"rees\", \"reform\", \"reform\", \"reid\", \"reid\", \"relaunch\", \"releas\", \"releas\", \"releas\", \"releas\", \"releas\", \"religi\", \"religion\", \"rematch\", \"rend\", \"renunci\", \"repriev\", \"republican\", \"republican\", \"republican\", \"rescuer\", \"resid\", \"resid\", \"resid\", \"restrict\", \"revis\", \"revis\", \"revis\", \"rhodeen\", \"richard\", \"richard\", \"richard\", \"right\", \"right\", \"right\", \"right\", \"right\", \"ringer\", \"riohi\", \"ripen\", \"rker\", \"romney\", \"rook\", \"room\", \"rout\", \"rtzberq\", \"rudin\", \"russia\", \"russia\", \"russo\", \"saban\", \"safer\", \"said\", \"said\", \"said\", \"said\", \"said\", \"said\", \"salam\", \"salt\", \"salvador\", \"satisfactorili\", \"saudabayev\", \"say\", \"say\", \"say\", \"sbwhoeop\", \"sbwhoeop\", \"sbwhoeop\", \"sbwhoeop\", \"sbwhoeop\", \"schumer\", \"schumer\", \"scriptur\", \"scroll\", \"secreci\", \"secretari\", \"secretari\", \"secur\", \"secur\", \"secur\", \"secur\", \"secur\", \"see\", \"see\", \"see\", \"seiji\", \"senat\", \"senat\", \"senat\", \"senat\", \"senat\", \"send\", \"send\", \"send\", \"senior\", \"senior\", \"senior\", \"settlement\", \"settlement\", \"shale\", \"shalikashvili\", \"shankar\", \"shimmer\", \"shipley\", \"shiv\", \"shock\", \"shock\", \"shook\", \"skousen\", \"slavic\", \"smizitmitlfalizzi\", \"snow\", \"solv\", \"sooner\", \"spade\", \"special\", \"special\", \"special\", \"special\", \"special\", \"speck\", \"speech\", \"speech\", \"speech\", \"speech\", \"speech\", \"splashi\", \"spray\", \"staff\", \"staff\", \"staff\", \"staff\", \"staff\", \"stair\", \"stairway\", \"start\", \"start\", \"start\", \"start\", \"state\", \"state\", \"state\", \"state\", \"state\", \"state\", \"state\", \"state\", \"straley\", \"strang\", \"strobe\", \"stroke\", \"stu\", \"stupak\", \"sung\", \"super\", \"support\", \"support\", \"support\", \"support\", \"support\", \"sure\", \"sure\", \"sure\", \"take\", \"take\", \"take\", \"take\", \"talk\", \"talk\", \"talk\", \"talk\", \"tax\", \"tax\", \"tax\", \"tax\", \"tbd\", \"tbd\", \"tea\", \"tea\", \"tea\", \"team\", \"team\", \"team\", \"team\", \"team\", \"team\", \"teddi\", \"tedious\", \"temptat\", \"tep\", \"textur\", \"thank\", \"thank\", \"thin\", \"think\", \"think\", \"think\", \"think\", \"time\", \"time\", \"time\", \"time\", \"time\", \"time\", \"titil\", \"today\", \"today\", \"today\", \"today\", \"today\", \"told\", \"told\", \"told\", \"told\", \"told\", \"tomorrow\", \"tonight\", \"top\", \"top\", \"top\", \"top\", \"top\", \"tori\", \"torrent\", \"touch\", \"touch\", \"touch\", \"townsend\", \"tradeoff\", \"trader\", \"traffic\", \"traffic\", \"travel\", \"travel\", \"travel\", \"travel\", \"treadmil\", \"treater\", \"treati\", \"treati\", \"trivia\", \"trove\", \"tuff\", \"tzipi\", \"uncl\", \"uncov\", \"underreport\", \"undertak\", \"unfavor\", \"unfcc\", \"unhealthi\", \"uninterest\", \"unit\", \"unit\", \"unit\", \"unit\", \"unload\", \"unlock\", \"unpersuas\", \"unquiet\", \"unsubscrib\", \"updat\", \"updat\", \"upturn\", \"usag\", \"usglc\", \"uup\", \"uvocaliv\", \"valmoro\", \"vantag\", \"varela\", \"varga\", \"vaw\", \"venal\", \"verif\", \"verizon\", \"verveerm\", \"via\", \"via\", \"vice\", \"vice\", \"vice\", \"viz\", \"vmi\", \"voluptu\", \"vote\", \"vote\", \"vote\", \"vote\", \"voter\", \"voter\", \"voyeurist\", \"walter\", \"want\", \"want\", \"want\", \"war\", \"wardrob\", \"washington\", \"washington\", \"washington\", \"washington\", \"washington\", \"wav\", \"weapon\", \"wed\", \"wed\", \"week\", \"week\", \"week\", \"week\", \"week\", \"week\", \"wfireasuri\", \"white\", \"white\", \"white\", \"wiesel\", \"wikileak\", \"windswept\", \"wing\", \"wing\", \"wing\", \"wing\", \"wing\", \"winkler\", \"wisecrack\", \"witherspoon\", \"women\", \"women\", \"women\", \"work\", \"work\", \"work\", \"work\", \"work\", \"world\", \"world\", \"world\", \"worthi\", \"xoxo\", \"xxoo\", \"ydalo\", \"year\", \"year\", \"year\", \"year\", \"year\", \"yes\", \"yorker\", \"yuval\", \"zest\", \"zevon\", \"zuckerman\"]}, \"mdsDat\": {\"y\": [-0.0049651309292088608, 0.031304665461015839, -0.013155121639156843, -0.11407939333573283, -0.020397933667037266, 0.28441230902159909, 0.16895383847878964, -0.12957732618623136, -0.096182330519055184, -0.10631357668498184], \"cluster\": [1, 1, 1, 1, 1, 1, 1, 1, 1, 1], \"Freq\": [38.726336496990434, 16.016081552518184, 15.491343371388547, 7.0644872876021862, 5.8677724968292564, 5.3249849231184267, 4.0645436105263117, 2.7808184800322588, 2.5376158352280198, 2.1260159457663912], \"topics\": [1, 2, 3, 4, 5, 6, 7, 8, 9, 10], \"x\": [-0.19554982822279057, -0.17965298470568164, -0.25223004207183303, -0.04061537088401098, -0.020490792590480429, 0.090808204685331795, 0.13524620929470121, 0.19720383293667854, 0.13446896290485069, 0.13081180865323447]}, \"R\": 30, \"lambda.step\": 0.01, \"tinfo\": {\"Category\": [\"Default\", \"Default\", \"Default\", \"Default\", \"Default\", \"Default\", \"Default\", \"Default\", \"Default\", \"Default\", \"Default\", \"Default\", \"Default\", \"Default\", \"Default\", \"Default\", \"Default\", \"Default\", \"Default\", \"Default\", \"Default\", \"Default\", \"Default\", \"Default\", \"Default\", \"Default\", \"Default\", \"Default\", \"Default\", \"Default\", \"Topic1\", \"Topic1\", \"Topic1\", \"Topic1\", \"Topic1\", \"Topic1\", \"Topic1\", \"Topic1\", \"Topic1\", \"Topic1\", \"Topic1\", \"Topic1\", \"Topic1\", \"Topic1\", \"Topic1\", \"Topic1\", \"Topic1\", \"Topic1\", \"Topic1\", \"Topic1\", \"Topic1\", \"Topic1\", \"Topic1\", \"Topic1\", \"Topic1\", \"Topic1\", \"Topic1\", \"Topic1\", \"Topic1\", \"Topic1\", \"Topic1\", \"Topic1\", \"Topic1\", \"Topic1\", \"Topic1\", \"Topic1\", \"Topic1\", \"Topic1\", \"Topic1\", \"Topic1\", \"Topic1\", \"Topic1\", \"Topic1\", \"Topic1\", \"Topic1\", \"Topic1\", \"Topic1\", \"Topic1\", \"Topic1\", \"Topic1\", \"Topic1\", \"Topic1\", \"Topic1\", \"Topic1\", \"Topic1\", \"Topic1\", \"Topic1\", \"Topic1\", \"Topic1\", \"Topic1\", \"Topic1\", \"Topic1\", \"Topic1\", \"Topic1\", \"Topic1\", \"Topic1\", \"Topic1\", \"Topic1\", \"Topic1\", \"Topic1\", \"Topic1\", \"Topic1\", \"Topic1\", \"Topic1\", \"Topic1\", \"Topic1\", \"Topic1\", \"Topic1\", \"Topic1\", \"Topic1\", \"Topic1\", \"Topic1\", \"Topic1\", \"Topic1\", \"Topic1\", \"Topic1\", \"Topic1\", \"Topic1\", \"Topic1\", \"Topic1\", \"Topic2\", \"Topic2\", \"Topic2\", \"Topic2\", \"Topic2\", \"Topic2\", \"Topic2\", \"Topic2\", \"Topic2\", \"Topic2\", \"Topic2\", \"Topic2\", \"Topic2\", \"Topic2\", \"Topic2\", \"Topic2\", \"Topic2\", \"Topic2\", \"Topic2\", \"Topic2\", \"Topic2\", \"Topic2\", \"Topic2\", \"Topic2\", \"Topic2\", \"Topic2\", \"Topic2\", \"Topic2\", \"Topic2\", \"Topic2\", \"Topic2\", \"Topic2\", \"Topic2\", \"Topic2\", \"Topic2\", \"Topic2\", \"Topic2\", \"Topic2\", \"Topic2\", \"Topic2\", \"Topic2\", \"Topic2\", \"Topic2\", \"Topic2\", \"Topic2\", \"Topic2\", \"Topic2\", \"Topic2\", \"Topic2\", \"Topic2\", \"Topic2\", \"Topic2\", \"Topic2\", \"Topic2\", \"Topic2\", \"Topic2\", \"Topic2\", \"Topic2\", \"Topic2\", \"Topic2\", \"Topic2\", \"Topic2\", \"Topic2\", \"Topic2\", \"Topic2\", \"Topic2\", \"Topic2\", \"Topic2\", \"Topic2\", \"Topic2\", \"Topic2\", \"Topic2\", \"Topic2\", \"Topic2\", \"Topic2\", \"Topic2\", \"Topic2\", \"Topic2\", \"Topic2\", \"Topic2\", \"Topic2\", \"Topic2\", \"Topic2\", \"Topic2\", \"Topic2\", \"Topic2\", \"Topic2\", \"Topic2\", \"Topic2\", \"Topic2\", \"Topic3\", \"Topic3\", \"Topic3\", \"Topic3\", \"Topic3\", \"Topic3\", \"Topic3\", \"Topic3\", \"Topic3\", \"Topic3\", \"Topic3\", \"Topic3\", \"Topic3\", \"Topic3\", \"Topic3\", \"Topic3\", \"Topic3\", \"Topic3\", \"Topic3\", \"Topic3\", \"Topic3\", \"Topic3\", \"Topic3\", \"Topic3\", \"Topic3\", \"Topic3\", \"Topic3\", \"Topic3\", \"Topic3\", \"Topic3\", \"Topic3\", \"Topic3\", \"Topic3\", \"Topic3\", \"Topic3\", \"Topic3\", \"Topic3\", \"Topic3\", \"Topic3\", \"Topic3\", \"Topic3\", \"Topic3\", \"Topic3\", \"Topic3\", \"Topic3\", \"Topic3\", \"Topic3\", \"Topic3\", \"Topic3\", \"Topic3\", \"Topic3\", \"Topic3\", \"Topic3\", \"Topic3\", \"Topic3\", \"Topic3\", \"Topic3\", \"Topic3\", \"Topic3\", \"Topic3\", \"Topic3\", \"Topic3\", \"Topic3\", \"Topic3\", \"Topic3\", \"Topic3\", \"Topic3\", \"Topic3\", \"Topic3\", \"Topic3\", \"Topic3\", \"Topic3\", \"Topic4\", \"Topic4\", \"Topic4\", \"Topic4\", \"Topic4\", \"Topic4\", \"Topic4\", \"Topic4\", \"Topic4\", \"Topic4\", \"Topic4\", \"Topic4\", \"Topic4\", \"Topic4\", \"Topic4\", \"Topic4\", \"Topic4\", \"Topic4\", \"Topic4\", \"Topic4\", \"Topic4\", \"Topic4\", \"Topic4\", \"Topic4\", \"Topic4\", \"Topic4\", \"Topic4\", \"Topic4\", \"Topic4\", \"Topic4\", \"Topic4\", \"Topic4\", \"Topic4\", \"Topic4\", \"Topic4\", \"Topic4\", \"Topic4\", \"Topic4\", \"Topic4\", \"Topic4\", \"Topic4\", \"Topic4\", \"Topic4\", \"Topic4\", \"Topic4\", \"Topic4\", \"Topic4\", \"Topic4\", \"Topic4\", \"Topic4\", \"Topic4\", \"Topic4\", \"Topic4\", \"Topic4\", \"Topic4\", \"Topic4\", \"Topic4\", \"Topic4\", \"Topic4\", \"Topic4\", \"Topic4\", \"Topic4\", \"Topic4\", \"Topic4\", \"Topic4\", \"Topic4\", \"Topic4\", \"Topic4\", \"Topic5\", \"Topic5\", \"Topic5\", \"Topic5\", \"Topic5\", \"Topic5\", \"Topic5\", \"Topic5\", \"Topic5\", \"Topic5\", \"Topic5\", \"Topic5\", \"Topic5\", \"Topic5\", \"Topic5\", \"Topic5\", \"Topic5\", \"Topic5\", \"Topic5\", \"Topic5\", \"Topic5\", \"Topic5\", \"Topic5\", \"Topic5\", \"Topic5\", \"Topic5\", \"Topic5\", \"Topic5\", \"Topic5\", \"Topic5\", \"Topic5\", \"Topic5\", \"Topic5\", \"Topic5\", \"Topic5\", \"Topic5\", \"Topic5\", \"Topic5\", \"Topic5\", \"Topic5\", \"Topic5\", \"Topic5\", \"Topic5\", \"Topic5\", \"Topic5\", \"Topic5\", \"Topic5\", \"Topic5\", \"Topic5\", \"Topic5\", \"Topic5\", \"Topic5\", \"Topic5\", \"Topic5\", \"Topic5\", \"Topic5\", \"Topic5\", \"Topic5\", \"Topic5\", \"Topic5\", \"Topic5\", \"Topic5\", \"Topic5\", \"Topic5\", \"Topic5\", \"Topic5\", \"Topic5\", \"Topic5\", \"Topic6\", \"Topic6\", \"Topic6\", \"Topic6\", \"Topic6\", \"Topic6\", \"Topic6\", \"Topic6\", \"Topic6\", \"Topic6\", \"Topic6\", \"Topic6\", \"Topic6\", \"Topic6\", \"Topic6\", \"Topic6\", \"Topic6\", \"Topic6\", \"Topic6\", \"Topic6\", \"Topic6\", \"Topic6\", \"Topic6\", \"Topic6\", \"Topic6\", \"Topic6\", \"Topic6\", \"Topic6\", \"Topic6\", \"Topic6\", \"Topic6\", \"Topic6\", \"Topic6\", \"Topic6\", \"Topic6\", \"Topic6\", \"Topic6\", \"Topic6\", \"Topic6\", \"Topic6\", \"Topic6\", \"Topic6\", \"Topic6\", \"Topic6\", \"Topic6\", \"Topic6\", \"Topic6\", \"Topic6\", \"Topic6\", \"Topic6\", \"Topic6\", \"Topic6\", \"Topic6\", \"Topic6\", \"Topic6\", \"Topic6\", \"Topic6\", \"Topic6\", \"Topic6\", \"Topic6\", \"Topic6\", \"Topic6\", \"Topic6\", \"Topic6\", \"Topic6\", \"Topic6\", \"Topic6\", \"Topic6\", \"Topic7\", \"Topic7\", \"Topic7\", \"Topic7\", \"Topic7\", \"Topic7\", \"Topic7\", \"Topic7\", \"Topic7\", \"Topic7\", \"Topic7\", \"Topic7\", \"Topic7\", \"Topic7\", \"Topic7\", \"Topic7\", \"Topic7\", \"Topic7\", \"Topic7\", \"Topic7\", \"Topic7\", \"Topic7\", \"Topic7\", \"Topic7\", \"Topic7\", \"Topic7\", \"Topic7\", \"Topic7\", \"Topic7\", \"Topic7\", \"Topic7\", \"Topic7\", \"Topic7\", \"Topic7\", \"Topic7\", \"Topic7\", \"Topic7\", \"Topic7\", \"Topic7\", \"Topic7\", \"Topic7\", \"Topic7\", \"Topic7\", \"Topic7\", \"Topic7\", \"Topic7\", \"Topic7\", \"Topic7\", \"Topic7\", \"Topic7\", \"Topic7\", \"Topic7\", \"Topic7\", \"Topic7\", \"Topic7\", \"Topic7\", \"Topic7\", \"Topic7\", \"Topic7\", \"Topic7\", \"Topic7\", \"Topic7\", \"Topic7\", \"Topic7\", \"Topic7\", \"Topic7\", \"Topic7\", \"Topic7\", \"Topic7\", \"Topic7\", \"Topic7\", \"Topic7\", \"Topic7\", \"Topic7\", \"Topic8\", \"Topic8\", \"Topic8\", \"Topic8\", \"Topic8\", \"Topic8\", \"Topic8\", \"Topic8\", \"Topic8\", \"Topic8\", \"Topic8\", \"Topic8\", \"Topic8\", \"Topic8\", \"Topic8\", \"Topic8\", \"Topic8\", \"Topic8\", \"Topic8\", \"Topic8\", \"Topic8\", \"Topic8\", \"Topic8\", \"Topic8\", \"Topic8\", \"Topic8\", \"Topic8\", \"Topic8\", \"Topic8\", \"Topic8\", \"Topic8\", \"Topic8\", \"Topic8\", \"Topic8\", \"Topic8\", \"Topic8\", \"Topic8\", \"Topic8\", \"Topic8\", \"Topic8\", \"Topic8\", \"Topic8\", \"Topic8\", \"Topic8\", \"Topic8\", \"Topic8\", \"Topic8\", \"Topic8\", \"Topic8\", \"Topic8\", \"Topic8\", \"Topic8\", \"Topic8\", \"Topic8\", \"Topic8\", \"Topic8\", \"Topic8\", \"Topic8\", \"Topic8\", \"Topic8\", \"Topic8\", \"Topic8\", \"Topic8\", \"Topic8\", \"Topic8\", \"Topic8\", \"Topic8\", \"Topic8\", \"Topic8\", \"Topic8\", \"Topic8\", \"Topic9\", \"Topic9\", \"Topic9\", \"Topic9\", \"Topic9\", \"Topic9\", \"Topic9\", \"Topic9\", \"Topic9\", \"Topic9\", \"Topic9\", \"Topic9\", \"Topic9\", \"Topic9\", \"Topic9\", \"Topic9\", \"Topic9\", \"Topic9\", \"Topic9\", \"Topic9\", \"Topic9\", \"Topic9\", \"Topic9\", \"Topic9\", \"Topic9\", \"Topic9\", \"Topic9\", \"Topic9\", \"Topic9\", \"Topic9\", \"Topic9\", \"Topic9\", \"Topic9\", \"Topic9\", \"Topic9\", \"Topic9\", \"Topic9\", \"Topic9\", \"Topic9\", \"Topic9\", \"Topic9\", \"Topic9\", \"Topic9\", \"Topic9\", \"Topic9\", \"Topic9\", \"Topic9\", \"Topic9\", \"Topic9\", \"Topic9\", \"Topic9\", \"Topic9\", \"Topic9\", \"Topic9\", \"Topic9\", \"Topic9\", \"Topic9\", \"Topic9\", \"Topic9\", \"Topic9\", \"Topic9\", \"Topic9\", \"Topic9\", \"Topic9\", \"Topic9\", \"Topic9\", \"Topic9\", \"Topic9\", \"Topic9\", \"Topic9\", \"Topic9\", \"Topic9\", \"Topic9\", \"Topic9\", \"Topic9\", \"Topic9\", \"Topic9\", \"Topic9\", \"Topic9\", \"Topic10\", \"Topic10\", \"Topic10\", \"Topic10\", \"Topic10\", \"Topic10\", \"Topic10\", \"Topic10\", \"Topic10\", \"Topic10\", \"Topic10\", \"Topic10\", \"Topic10\", \"Topic10\", \"Topic10\", \"Topic10\", \"Topic10\", \"Topic10\", \"Topic10\", \"Topic10\", \"Topic10\", \"Topic10\", \"Topic10\", \"Topic10\", \"Topic10\", \"Topic10\", \"Topic10\", \"Topic10\", \"Topic10\", \"Topic10\", \"Topic10\", \"Topic10\", \"Topic10\", \"Topic10\", \"Topic10\", \"Topic10\", \"Topic10\", \"Topic10\", \"Topic10\", \"Topic10\", \"Topic10\", \"Topic10\", \"Topic10\", \"Topic10\", \"Topic10\", \"Topic10\", \"Topic10\", \"Topic10\", \"Topic10\", \"Topic10\", \"Topic10\", \"Topic10\", \"Topic10\", \"Topic10\", \"Topic10\", \"Topic10\", \"Topic10\", \"Topic10\", \"Topic10\", \"Topic10\", \"Topic10\", \"Topic10\", \"Topic10\", \"Topic10\", \"Topic10\", \"Topic10\", \"Topic10\", \"Topic10\", \"Topic10\", \"Topic10\", \"Topic10\", \"Topic10\", \"Topic10\", \"Topic10\", \"Topic10\", \"Topic10\", \"Topic10\", \"Topic10\", \"Topic10\", \"Topic10\", \"Topic10\", \"Topic10\", \"Topic10\", \"Topic10\", \"Topic10\", \"Topic10\", \"Topic10\", \"Topic10\", \"Topic10\", \"Topic10\", \"Topic10\", \"Topic10\", \"Topic10\", \"Topic10\", \"Topic10\", \"Topic10\", \"Topic10\", \"Topic10\", \"Topic10\", \"Topic10\"], \"Term\": [\"offic\", \"depart\", \"call\", \"obama\", \"meet\", \"hous\", \"pleas\", \"state\", \"fyi\", \"republican\", \"room\", \"white\", \"israel\", \"democrat\", \"thank\", \"presid\", \"see\", \"get\", \"parti\", \"part\", \"want\", \"said\", \"vote\", \"arriv\", \"right\", \"new\", \"senat\", \"time\", \"know\", \"privat\", \"interrelationship\", \"preambl\", \"cowardic\", \"uncov\", \"humankind\", \"chinni\", \"misde\", \"mesmer\", \"ferret\", \"hearten\", \"fuddi\", \"unload\", \"rake\", \"peninsula\", \"drool\", \"trivia\", \"innermost\", \"hyperact\", \"adject\", \"titil\", \"venal\", \"voyeurist\", \"psychosi\", \"politburo\", \"queasi\", \"voluptu\", \"tradeoff\", \"slavic\", \"underreport\", \"monarch\", \"assang\", \"unquiet\", \"textur\", \"launcher\", \"chin\", \"trove\", \"arsenal\", \"wikileak\", \"faith\", \"julian\", \"verif\", \"ballist\", \"missil\", \"ratifi\", \"nuclear\", \"moscow\", \"cabl\", \"russia\", \"religi\", \"leak\", \"defens\", \"american\", \"religion\", \"diplomat\", \"war\", \"iran\", \"solv\", \"weapon\", \"treati\", \"shock\", \"danger\", \"new\", \"america\", \"year\", \"afghanistan\", \"presid\", \"militari\", \"unit\", \"administr\", \"forc\", \"one\", \"even\", \"say\", \"state\", \"govern\", \"leader\", \"said\", \"start\", \"obama\", \"nation\", \"polit\", \"right\", \"women\", \"countri\", \"time\", \"make\", \"like\", \"secur\", \"support\", \"peopl\", \"unfcc\", \"eviy\", \"nasaw\", \"tep\", \"mold\", \"loeser\", \"loomber\", \"loomberg\", \"stu\", \"blogospher\", \"ier\", \"imprimatur\", \"elis\", \"labatt\", \"stroke\", \"afgh\", \"cco\", \"amidst\", \"redevelop\", \"extravag\", \"izaibeth\", \"advent\", \"wardrob\", \"mingl\", \"foyer\", \"uninterest\", \"hanukkah\", \"flippanc\", \"orat\", \"pud\", \"winkler\", \"bider\", \"overus\", \"stairway\", \"businessweek\", \"pinstrip\", \"hearst\", \"bullock\", \"oddest\", \"stair\", \"cancun\", \"bloomberg\", \"fgm\", \"editori\", \"houston\", \"mayor\", \"develop\", \"pant\", \"trader\", \"leas\", \"compani\", \"diplomaci\", \"global\", \"econom\", \"approach\", \"opportun\", \"climat\", \"sooner\", \"magic\", \"haiti\", \"focus\", \"polici\", \"health\", \"world\", \"busi\", \"page\", \"effort\", \"partner\", \"plan\", \"issu\", \"work\", \"peopl\", \"intern\", \"includ\", \"new\", \"project\", \"countri\", \"state\", \"nation\", \"govern\", \"need\", \"media\", \"year\", \"said\", \"support\", \"public\", \"women\", \"one\", \"time\", \"also\", \"maryann\", \"balloonist\", \"motho\", \"manigault\", \"celestin\", \"martieili\", \"karoak\", \"xxoo\", \"frost\", \"speck\", \"reallli\", \"relaunch\", \"tuff\", \"bah\", \"marigold\", \"geni\", \"xoxo\", \"mubatak\", \"antoni\", \"renunci\", \"bali\", \"diff\", \"usglc\", \"ivoir\", \"saudabayev\", \"prodigi\", \"cal\", \"nasr\", \"luxor\", \"cargo\", \"putin\", \"call\", \"see\", \"tomorrow\", \"get\", \"thank\", \"want\", \"know\", \"let\", \"talk\", \"good\", \"today\", \"discuss\", \"back\", \"sure\", \"think\", \"tonight\", \"send\", \"ask\", \"happi\", \"yes\", \"jake\", \"morn\", \"updat\", \"work\", \"op\", \"draft\", \"got\", \"hope\", \"come\", \"also\", \"great\", \"like\", \"go\", \"make\", \"week\", \"time\", \"need\", \"take\", \"day\", \"meet\", \"one\", \"dac\", \"tzipi\", \"meridor\", \"diskin\", \"llama\", \"expiri\", \"livni\", \"yuval\", \"freier\", \"acr\", \"psc\", \"nugget\", \"kadima\", \"mazen\", \"redraw\", \"torrent\", \"braini\", \"upturn\", \"vmi\", \"mishandl\", \"cosign\", \"shipley\", \"spade\", \"secreci\", \"andi\", \"unpersuas\", \"rescuer\", \"ake\", \"peacemak\", \"forest\", \"likud\", \"abu\", \"bibi\", \"lieberman\", \"fyi\", \"israel\", \"isra\", \"palestinian\", \"netanyahu\", \"arab\", \"jewish\", \"negoti\", \"peac\", \"labour\", \"parti\", \"tori\", \"jerusalem\", \"cameron\", \"jew\", \"ireland\", \"freez\", \"northern\", \"gaza\", \"uup\", \"prime\", \"minist\", \"deal\", \"settlement\", \"david\", \"polit\", \"east\", \"brown\", \"process\", \"leader\", \"member\", \"vote\", \"govern\", \"support\", \"ranker\", \"compuls\", \"dalin\", \"wav\", \"fealti\", \"adc\", \"scriptur\", \"proselyt\", \"demean\", \"usag\", \"riohi\", \"temptat\", \"injunct\", \"oniy\", \"arbit\", \"anoint\", \"misplac\", \"entwin\", \"uvocaliv\", \"uncl\", \"townsend\", \"boat\", \"messa\", \"judd\", \"worthi\", \"teddi\", \"kathleen\", \"mondal\", \"adjourn\", \"hampshir\", \"duck\", \"palin\", \"kennedi\", \"romney\", \"republican\", \"democrat\", \"vote\", \"candid\", \"voter\", \"percent\", \"senat\", \"elect\", \"poll\", \"approv\", \"conserv\", \"tax\", \"lincoln\", \"favor\", \"parti\", \"church\", \"unfavor\", \"care\", \"disapprov\", \"reform\", \"health\", \"opinion\", \"rate\", \"among\", \"obama\", \"enough\", \"dem\", \"legisl\", \"presid\", \"presidenti\", \"congress\", \"american\", \"polit\", \"like\", \"efe\", \"wfireasuri\", \"interreligi\", \"mein\", \"odein\", \"haxhinasto\", \"albanian\", \"edmond\", \"countryman\", \"mulcahi\", \"molcoh\", \"varela\", \"famera\", \"shiv\", \"meridian\", \"panamanian\", \"novogartz\", \"kincaid\", \"wiesel\", \"missi\", \"satisfactorili\", \"mauricio\", \"ajumogobia\", \"carriag\", \"seiji\", \"maehara\", \"guido\", \"fune\", \"hwan\", \"ratif\", \"room\", \"depart\", \"offic\", \"arriv\", \"rout\", \"resid\", \"meet\", \"confer\", \"privat\", \"outer\", \"brief\", \"treati\", \"airport\", \"daili\", \"floor\", \"photo\", \"laguardia\", \"tbd\", \"andrew\", \"sung\", \"camera\", \"secretari\", \"headquart\", \"spray\", \"minist\", \"state\", \"press\", \"staff\", \"pre\", \"foreign\", \"bilater\", \"time\", \"air\", \"nation\", \"offici\", \"senat\", \"top\", \"senior\", \"heck\", \"ordinarili\", \"unsubscrib\", \"htm\", \"acquaint\", \"shankar\", \"aab\", \"shook\", \"duddi\", \"entranc\", \"forgot\", \"idiot\", \"molcho\", \"happili\", \"cob\", \"bono\", \"gossipi\", \"salam\", \"asylum\", \"aorta\", \"goodby\", \"adept\", \"ceas\", \"yorker\", \"undertak\", \"arizona\", \"kiss\", \"des\", \"austrian\", \"kuwaiti\", \"gregg\", \"strang\", \"white\", \"hous\", \"boehner\", \"biden\", \"schumer\", \"reid\", \"fox\", \"richard\", \"joe\", \"pentagon\", \"holbrook\", \"obama\", \"persuad\", \"durbin\", \"bill\", \"petraeus\", \"emanuel\", \"staff\", \"flexibl\", \"walter\", \"donilon\", \"capitol\", \"consent\", \"ill\", \"gate\", \"senat\", \"lobbyist\", \"said\", \"presid\", \"committe\", \"advis\", \"washington\", \"chief\", \"aid\", \"ambassador\", \"jone\", \"john\", \"vice\", \"general\", \"member\", \"campaign\", \"former\", \"rudin\", \"binta\", \"leecia\", \"furstenberg\", \"kive\", \"ophelia\", \"kinney\", \"hochberg\", \"saban\", \"salvador\", \"duke\", \"redesign\", \"diann\", \"mort\", \"haim\", \"doc\", \"ringer\", \"jeann\", \"hst\", \"zuckerman\", \"russo\", \"nss\", \"safer\", \"kornblum\", \"fervent\", \"bart\", \"cathi\", \"salt\", \"carol\", \"drink\", \"koch\", \"context\", \"beck\", \"skousen\", \"tea\", \"charl\", \"gay\", \"movement\", \"district\", \"juarez\", \"ford\", \"communist\", \"activist\", \"birch\", \"wing\", \"libertarian\", \"book\", \"stupak\", \"glenn\", \"right\", \"death\", \"parti\", \"restrict\", \"llosa\", \"varga\", \"david\", \"honduran\", \"grid\", \"group\", \"organ\", \"ralli\", \"abort\", \"protest\", \"claim\", \"told\", \"name\", \"richard\", \"famili\", \"life\", \"polit\", \"citizen\", \"bingo\", \"burial\", \"ydalo\", \"holbrookel\", \"backstori\", \"viz\", \"smizitmitlfalizzi\", \"norad\", \"mona\", \"straley\", \"ackerman\", \"rhodeen\", \"osteen\", \"jacob\", \"pincus\", \"kao\", \"zest\", \"tedious\", \"witherspoon\", \"vaw\", \"rees\", \"dempsey\", \"anna\", \"quinlan\", \"nordic\", \"contiaentia\", \"shalikashvili\", \"shale\", \"littler\", \"lakshaman\", \"harpar\", \"avon\", \"dellum\", \"qddr\", \"pleas\", \"pis\", \"birthday\", \"jockey\", \"print\", \"agoa\", \"nigerian\", \"add\", \"list\", \"messag\", \"scroll\", \"traffic\", \"preserv\", \"copi\", \"mail\", \"lauren\", \"strobe\", \"kean\", \"via\", \"joann\", \"massachusett\", \"brook\", \"laszczych\", \"email\", \"fuch\", \"judith\", \"australian\", \"iii\", \"contact\", \"thank\", \"travel\", \"wed\", \"assist\", \"articl\", \"address\", \"fyi\", \"speech\", \"immedi\", \"receiv\", \"philipp\", \"follow\", \"deliv\", \"state\", \"offic\", \"need\", \"rbg\", \"treadmil\", \"verveerm\", \"harrow\", \"rematch\", \"booster\", \"dubrin\", \"ghostlik\", \"repriev\", \"madigan\", \"treater\", \"shimmer\", \"cullerton\", \"aftach\", \"lieu\", \"elleveld\", \"gliffa\", \"lbgt\", \"unhealthi\", \"vantag\", \"greenwich\", \"ntab\", \"splashi\", \"hjnl\", \"marco\", \"unlock\", \"billboard\", \"nypl\", \"rtzberq\", \"lauro\", \"doe\", \"rook\", \"decibel\", \"rker\", \"zevon\", \"newyo\", \"rend\", \"diplomacychapt\", \"conflictand\", \"marton\", \"hend\", \"bike\", \"gregari\", \"hertzberg\", \"hendrik\", \"khe\", \"windswept\", \"ghast\", \"appetit\", \"deathb\", \"peacenik\", \"piano\", \"wisecrack\", \"chapter\", \"ripen\", \"clotur\", \"releas\", \"valmoro\", \"kyl\", \"nice\", \"insight\", \"edit\", \"part\", \"snow\", \"argentina\", \"petit\", \"prein\", \"branch\", \"gore\", \"flight\", \"aorta\", \"touch\", \"thin\", \"verizon\", \"clean\", \"readout\", \"pir\", \"super\", \"lissa\", \"team\", \"imag\", \"asap\", \"etc\", \"revis\", \"nov\", \"state\", \"bob\", \"assist\", \"final\", \"new\", \"direct\", \"special\", \"read\", \"sbwhoeop\", \"order\", \"start\", \"letter\", \"night\", \"speech\", \"last\"], \"loglift\": [30.0, 29.0, 28.0, 27.0, 26.0, 25.0, 24.0, 23.0, 22.0, 21.0, 20.0, 19.0, 18.0, 17.0, 16.0, 15.0, 14.0, 13.0, 12.0, 11.0, 10.0, 9.0, 8.0, 7.0, 6.0, 5.0, 4.0, 3.0, 2.0, 1.0, 2.7262, 2.7262, 2.7262, 2.7262, 2.7262, 2.7262, 2.7262, 2.7262, 2.7262, 2.7262, 2.7262, 2.7262, 2.7262, 2.7262, 2.7262, 2.7262, 2.7262, 2.7262, 2.7262, 2.7262, 2.7262, 2.7262, 2.7262, 2.7262, 2.7262, 2.7262, 2.7262, 2.7262, 2.7262, 2.7262, 2.7092999999999998, 2.7262, 2.7262, 2.7141000000000002, 2.7170999999999998, 2.7170999999999998, 2.3163999999999998, 2.2155, 1.9320999999999999, 2.3206000000000002, 2.3767999999999998, 2.3700999999999999, 1.9486000000000001, 2.1049000000000002, 1.5308999999999999, 2.0041000000000002, 1.7262, 1.5803, 1.6484000000000001, 1.7633000000000001, 1.3418000000000001, 0.76380000000000003, 1.6429, 1.1915, 0.99060000000000004, 0.96399999999999997, 1.6861999999999999, 1.3214999999999999, 1.1257999999999999, 1.5723, 1.3275999999999999, 0.51700000000000002, 0.91990000000000005, 0.52910000000000001, 0.8216, 0.39900000000000002, 0.83579999999999999, 0.64529999999999998, 0.70779999999999998, 0.77749999999999997, 0.31119999999999998, 0.60489999999999999, 0.41199999999999998, 0.046199999999999998, 0.3654, 0.62970000000000004, 0.14560000000000001, 0.79790000000000005, 0.0843, 0.29849999999999999, 0.32250000000000001, 0.28720000000000001, 0.45140000000000002, 0.42859999999999998, -0.17910000000000001, 0.23810000000000001, 0.0057000000000000002, 0.2923, 0.22900000000000001, 0.1789, 3.5708000000000002, 3.5708000000000002, 3.5708000000000002, 3.5708000000000002, 3.5708000000000002, 3.5708000000000002, 3.5708000000000002, 3.5708000000000002, 3.5708000000000002, 3.5708000000000002, 3.5708000000000002, 3.5708000000000002, 3.5708000000000002, 3.5708000000000002, 3.5708000000000002, 3.5708000000000002, 3.5708000000000002, 3.5708000000000002, 3.5708000000000002, 3.5707, 3.5707, 3.5707, 3.5707, 3.5707, 3.5707, 3.5707, 3.5707, 3.5707, 3.5707, 3.5707, 3.5562, 3.5707, 3.5707, 3.5707, 3.5586000000000002, 3.5586000000000002, 3.5617000000000001, 3.5707, 3.5707, 3.5707, 3.4009, 3.0215999999999998, 3.3155000000000001, 2.6219999999999999, 2.9302000000000001, 2.3182999999999998, 1.744, 2.9011999999999998, 3.2290999999999999, 3.2221000000000002, 1.8638999999999999, 1.6877, 1.6117999999999999, 1.5329999999999999, 1.7383, 1.7197, 1.9074, 2.7911000000000001, 2.7873999999999999, 1.4710000000000001, 1.5401, 1.0775999999999999, 1.2484, 1.1367, 1.5123, 1.7712000000000001, 1.1868000000000001, 1.6158999999999999, 1.1029, 0.92669999999999997, 0.64480000000000004, 0.82650000000000001, 1.0503, 0.97270000000000001, 0.58460000000000001, 1.6064000000000001, 0.81899999999999995, 0.15379999999999999, 0.5998, 0.55649999999999999, 0.5615, 1.3073999999999999, 0.2419, -0.048899999999999999, 0.35880000000000001, 0.60860000000000003, 0.54179999999999995, -0.1198, -0.2737, 0.024299999999999999, 3.6074999999999999, 3.6074999999999999, 3.6074999999999999, 3.6074999999999999, 3.6074999999999999, 3.6074999999999999, 3.6074999999999999, 3.6074999999999999, 3.6074999999999999, 3.6074999999999999, 3.6074999999999999, 3.6074999999999999, 3.6074999999999999, 3.6074999999999999, 3.6074999999999999, 3.6074999999999999, 3.6074999999999999, 3.6074999999999999, 3.5985, 3.5983999999999998, 3.2071999999999998, 3.0539999999999998, 3.0539999999999998, 3.0539999999999998, 3.0539999999999998, 3.0539999999999998, 3.0409999999999999, 3.0409000000000002, 3.0396000000000001, 2.9201000000000001, 2.8355999999999999, 1.6724000000000001, 1.7553000000000001, 1.8407, 1.6194999999999999, 1.6785000000000001, 1.5833999999999999, 1.6069, 1.7295, 1.5820000000000001, 1.6085, 1.5479000000000001, 1.6485000000000001, 1.5313000000000001, 1.7994000000000001, 1.4724999999999999, 2.0127000000000002, 1.7183999999999999, 1.5371999999999999, 1.9460999999999999, 1.7238, 1.8185, 1.7667999999999999, 1.9220999999999999, 1.1388, 1.8823000000000001, 1.7607999999999999, 1.6917, 1.5659000000000001, 1.3783000000000001, 1.1166, 1.5734999999999999, 0.9788, 1.3715999999999999, 1.0873999999999999, 1.1877, 0.63290000000000002, 0.83540000000000003, 1.1316999999999999, 1.0085, 0.4955, 0.35670000000000002, 4.3891999999999998, 4.3891999999999998, 4.3891999999999998, 4.3891999999999998, 4.3891999999999998, 4.3891999999999998, 4.3891999999999998, 4.3891999999999998, 4.3891999999999998, 4.3891999999999998, 4.3891999999999998, 4.3800999999999997, 4.0476000000000001, 3.8782999999999999, 3.8357000000000001, 3.8357000000000001, 3.8357000000000001, 3.8227000000000002, 3.8227000000000002, 3.8227000000000002, 3.8107000000000002, 3.8085, 3.5528, 3.5528, 3.5411999999999999, 3.5306999999999999, 3.5295999999999998, 3.5190000000000001, 3.4573999999999998, 3.4316, 3.431, 3.4131999999999998, 3.3201000000000001, 3.121, 2.4662000000000002, 2.5289999999999999, 2.5085999999999999, 2.54, 2.5951, 2.4855999999999998, 2.5032000000000001, 2.2890000000000001, 2.1187, 2.4346000000000001, 1.758, 2.3954, 2.4782999999999999, 2.4032, 2.5428999999999999, 2.3512, 2.6231, 2.3066, 2.4685000000000001, 2.4055, 2.0428000000000002, 1.5539000000000001, 1.6909000000000001, 1.8714999999999999, 1.6218999999999999, 1.0087999999999999, 1.7231000000000001, 1.8624000000000001, 1.5309999999999999, 1.0381, 1.2022999999999999, 0.81830000000000003, 0.43419999999999997, 0.56740000000000002, 4.5831999999999997, 4.5831999999999997, 4.5831999999999997, 4.5831999999999997, 4.5831999999999997, 4.5831999999999997, 4.5831999999999997, 4.5831999999999997, 4.5831999999999997, 4.5831999999999997, 4.5831999999999997, 4.5831999999999997, 4.5831999999999997, 4.5831999999999997, 4.5831999999999997, 4.5831999999999997, 4.5831999999999997, 4.5831999999999997, 4.5831999999999997, 4.4555999999999996, 4.2416, 4.0167000000000002, 3.8877000000000002, 3.8622999999999998, 3.8622999999999998, 3.8622999999999998, 3.8035999999999999, 3.7347000000000001, 3.5832999999999999, 3.5579000000000001, 3.5520999999999998, 3.4405999999999999, 3.4348999999999998, 3.3574000000000002, 2.6162000000000001, 2.4655, 2.4767999999999999, 2.7328000000000001, 2.5969000000000002, 2.4291999999999998, 2.1055999999999999, 2.1292, 2.3692000000000002, 2.4512, 2.2124999999999999, 2.5089999999999999, 3.2822, 2.3932000000000002, 1.5587, 2.8702999999999999, 2.6394000000000002, 1.8554999999999999, 2.5236999999999998, 1.9837, 1.6604000000000001, 2.1791999999999998, 2.0525000000000002, 1.7685999999999999, 0.84740000000000004, 1.9093, 2.6034999999999999, 2.2538999999999998, 0.62919999999999998, 1.7602, 1.7223999999999999, 0.37019999999999997, 0.5141, 0.25469999999999998, 4.5266999999999999, 4.5266999999999999, 4.5266999999999999, 4.5266999999999999, 4.5266999999999999, 4.5266999999999999, 4.5266999999999999, 4.5266999999999999, 4.5266999999999999, 4.5266999999999999, 4.5266999999999999, 4.5266999999999999, 4.5266999999999999, 4.5266999999999999, 4.5266999999999999, 4.5266999999999999, 4.5266999999999999, 4.5266999999999999, 4.5266999999999999, 4.5266999999999999, 4.5266999999999999, 4.5176999999999996, 4.5176999999999996, 4.5176999999999996, 4.5145999999999997, 4.5145999999999997, 4.1851000000000003, 4.1717000000000004, 4.0914000000000001, 4.0875000000000004, 2.9058999999999999, 2.7033, 2.5931999999999999, 2.8014000000000001, 2.8393000000000002, 2.7669000000000001, 2.3222, 2.5737000000000001, 2.5125999999999999, 3.1383000000000001, 2.6461999999999999, 2.7557999999999998, 2.7919, 2.6469999999999998, 2.7103000000000002, 2.7633999999999999, 3.0733000000000001, 3.0213999999999999, 2.8321999999999998, 3.7355999999999998, 2.7902999999999998, 2.9866999999999999, 3.2867000000000002, 2.8311000000000002, 2.0030999999999999, 1.3646, 2.0916000000000001, 1.9596, 2.7749000000000001, 1.7089000000000001, 2.5886, 1.1274, 2.4521999999999999, 1.0647, 1.3552999999999999, 0.94499999999999995, 1.8091999999999999, 1.6813, 4.3159999999999998, 4.3159999999999998, 4.3159000000000001, 4.3159000000000001, 4.3159000000000001, 4.3159000000000001, 4.3159000000000001, 4.3029000000000002, 4.3028000000000004, 4.1306000000000003, 4.0861000000000001, 4.0330000000000004, 4.0330000000000004, 4.0214999999999996, 4.0214999999999996, 4.0098000000000003, 4.0098000000000003, 4.0094000000000003, 3.9992000000000001, 3.9803999999999999, 3.8544999999999998, 3.8544999999999998, 3.8439999999999999, 3.8331, 3.7803, 3.7597999999999998, 3.7204000000000002, 3.7035999999999998, 3.6879, 3.6839, 3.6272000000000002, 3.5539999999999998, 2.8852000000000002, 2.7536999999999998, 2.9531000000000001, 3.0556000000000001, 3.4887000000000001, 3.073, 3.1962999999999999, 2.8273000000000001, 3.0081000000000002, 2.9872000000000001, 2.7195, 1.9966999999999999, 3.2349000000000001, 3.4257, 2.3363, 2.802, 3.0409000000000002, 2.2538, 3.3033999999999999, 3.3849, 3.2461000000000002, 2.8986000000000001, 3.3178000000000001, 2.9504999999999999, 2.5663, 1.7092000000000001, 2.7902, 1.2963, 1.2848999999999999, 2.21, 2.1844000000000001, 1.6357999999999999, 2.0966999999999998, 1.9281999999999999, 1.9367000000000001, 2.3572000000000002, 1.9944, 2.4813999999999998, 1.3130999999999999, 1.3421000000000001, 1.4601, 1.3104, 5.2633000000000001, 5.2633000000000001, 5.2633000000000001, 5.2633000000000001, 5.2633000000000001, 5.2633000000000001, 5.2633000000000001, 5.2633000000000001, 4.7098000000000004, 4.7019000000000002, 4.6967999999999996, 4.6966999999999999, 4.6894, 4.6848000000000001, 4.4153000000000002, 4.4153000000000002, 4.4047999999999998, 4.4040999999999997, 4.2374999999999998, 4.2286000000000001, 4.1056999999999997, 4.0960999999999999, 4.0862999999999996, 4.0854999999999997, 4.0308000000000002, 4.0221999999999998, 4.0136000000000003, 3.9508999999999999, 3.8656000000000001, 3.7201, 3.3660000000000001, 3.5379999999999998, 3.2987000000000002, 3.367, 3.1698, 3.2254, 3.4302000000000001, 2.8292999999999999, 3.0952000000000002, 3.2637, 3.1675, 3.1436999999999999, 2.9411999999999998, 3.3698000000000001, 2.6776, 3.3700000000000001, 2.2423999999999999, 3.3700000000000001, 3.3363, 1.4577, 2.4315000000000002, 1.3818999999999999, 3.3195999999999999, 3.3706, 3.3706, 1.7934000000000001, 3.2618999999999998, 3.2936999999999999, 1.3232999999999999, 1.8130999999999999, 2.8155000000000001, 2.7416, 2.5042, 1.8959999999999999, 1.2715000000000001, 1.6896, 1.9662999999999999, 1.5419, 1.7967, 0.52929999999999999, 2.2652999999999999, 5.1620999999999997, 5.1620999999999997, 5.1620999999999997, 5.1620999999999997, 5.1620999999999997, 5.1620999999999997, 5.1620999999999997, 5.1620999999999997, 5.1620999999999997, 5.1620999999999997, 5.1620999999999997, 5.1620999999999997, 5.1620999999999997, 5.1620999999999997, 5.1620999999999997, 5.1620999999999997, 5.1620999999999997, 5.1620999999999997, 5.1620999999999997, 5.1620999999999997, 5.1620999999999997, 5.1620999999999997, 5.1620999999999997, 5.1620999999999997, 5.1620999999999997, 5.1620999999999997, 5.1620999999999997, 5.1620999999999997, 5.1620999999999997, 5.1620999999999997, 5.1620999999999997, 5.1529999999999996, 5.1529999999999996, 4.1818, 3.4331, 4.2622, 4.2573999999999996, 4.5082000000000004, 3.4192, 4.8205, 4.8202999999999996, 3.2772999999999999, 3.0779999999999998, 2.8605999999999998, 4.2302999999999997, 3.5861000000000001, 4.1763000000000003, 3.0102000000000002, 3.0661999999999998, 3.2010000000000001, 3.3871000000000002, 4.4226000000000001, 2.9217, 3.5990000000000002, 3.5602999999999998, 3.3193000000000001, 3.6840999999999999, 2.3224, 3.6949000000000001, 3.2341000000000002, 4.0453000000000001, 3.3222999999999998, 2.6173999999999999, 1.7030000000000001, 2.3837000000000002, 3.0943000000000001, 1.9123000000000001, 2.3628999999999998, 2.1690999999999998, 1.1345000000000001, 1.6877, 2.3250999999999999, 2.0236000000000001, 3.0099, 1.3803000000000001, 2.2637, -0.046100000000000002, 0.2838, 0.59650000000000003, 5.2199999999999998, 5.2199999999999998, 5.2199999999999998, 5.2199999999999998, 5.2199999999999998, 5.2199999999999998, 5.2199999999999998, 5.2199999999999998, 5.2199999999999998, 5.2199999999999998, 5.2199999999999998, 5.2199999999999998, 5.2199999999999998, 5.2199999999999998, 5.2199999999999998, 5.2199999999999998, 5.2199999999999998, 5.2199999999999998, 5.2199999999999998, 5.2199999999999998, 5.2199999999999998, 5.2199999999999998, 5.2199999999999998, 5.2199999999999998, 5.2199999999999998, 5.2199999999999998, 5.2199999999999998, 5.2199999999999998, 5.2199999999999998, 5.2199999999999998, 5.2199999999999998, 5.2199999999999998, 5.2199999999999998, 5.2199999999999998, 5.2199999999999998, 5.2199999999999998, 5.2199999999999998, 5.2110000000000003, 5.2110000000000003, 5.2110000000000003, 5.2199999999999998, 5.2199999999999998, 5.2199999999999998, 5.2199999999999998, 5.2199999999999998, 5.2199999999999998, 5.2199999999999998, 5.2199999999999998, 5.2199999999999998, 5.2199999999999998, 5.2199999999999998, 5.2199999999999998, 5.2199999999999998, 4.5069999999999997, 4.8784000000000001, 3.9817999999999998, 3.0739000000000001, 3.3384, 4.0331000000000001, 3.5825999999999998, 4.0544000000000002, 3.3677000000000001, 2.5630999999999999, 3.8633999999999999, 3.8721999999999999, 4.4874000000000001, 3.5007999999999999, 3.0076000000000001, 3.1417000000000002, 3.3822000000000001, 4.6803999999999997, 3.0831, 4.1173000000000002, 3.7635999999999998, 3.4386000000000001, 3.3896999999999999, 3.4175, 4.1677999999999997, 3.2951000000000001, 2.3338999999999999, 2.7707999999999999, 3.3822000000000001, 2.6850999999999998, 3.2439, 3.1741000000000001, 0.76219999999999999, 3.0522999999999998, 1.8398000000000001, 2.0848, 0.96330000000000005, 1.7633000000000001, 1.9327000000000001, 1.8222, 2.4579, 1.9031, 1.3274999999999999, 1.851, 1.6977, 1.1673, 0.64800000000000002], \"Freq\": [1246.0, 926.0, 1589.0, 1230.0, 1045.0, 779.0, 582.0, 1811.0, 830.0, 609.0, 503.0, 498.0, 537.0, 614.0, 657.0, 1184.0, 834.0, 951.0, 715.0, 425.0, 855.0, 1205.0, 542.0, 380.0, 775.0, 1084.0, 612.0, 1338.0, 763.0, 409.0, 0.87492932274112178, 0.87492932274112178, 0.87492798472393918, 0.87492798472393918, 0.87492798472393918, 0.87492798472393918, 0.87492798472393918, 0.87492798472393918, 0.87492798472393918, 0.87492798472393918, 0.87492798472393918, 0.87492798472393918, 0.87492798472393918, 0.87492798472393918, 0.87492798472393918, 0.87492798472393918, 0.87492610175721774, 0.87492610175721774, 0.87492610175721774, 0.87492610175721774, 0.87492610175721774, 0.87492610175721774, 0.87492610175721774, 0.87492610175721774, 0.87492610175721774, 0.87492610175721774, 0.87492610175721774, 0.87492610175721774, 0.87492610175721774, 0.87492610175721774, 13.856095756247493, 0.87492610175721774, 0.87492610175721774, 2.8619640114372924, 1.8654505145873359, 1.8654495484203635, 15.787495136343502, 23.764099939002143, 64.685227026513545, 7.791109769287365, 5.8038841019085439, 5.8026118871854431, 46.69095964291413, 16.738007891557395, 196.09487351131693, 21.709559298360833, 50.967239240629588, 84.094851359746372, 61.180279262536871, 34.629493844186925, 136.80001192258683, 716.00468472116063, 41.581829007691077, 164.15397140104696, 356.19086634116024, 312.48971173496994, 31.600589758574454, 100.42087038127022, 104.96320994839317, 41.035031613470032, 87.424843078987109, 657.8211989102515, 254.94817022604875, 624.54243489139333, 382.34143436150606, 710.69841993192028, 355.05564941744694, 360.82727356557228, 380.7199833744869, 312.44943478318459, 659.68652521015883, 390.41309850793306, 561.29452952595329, 780.32712189665972, 481.15271618634148, 308.56787761400869, 575.59311052860539, 186.49596333889534, 551.28490216197645, 403.79799004904271, 404.44027129674805, 431.96761766055323, 377.9940784576134, 342.68976905010055, 451.58740704313493, 316.18941970257418, 386.40549188343317, 331.15101745838786, 343.6685055486667, 358.30811079457175, 0.87013806587663178, 0.87013784375204273, 0.87013784375204273, 0.87013784375204273, 0.87013784375204273, 0.87013784375204273, 0.87013784375204273, 0.87013784375204273, 0.87013784375204273, 0.87013784375204273, 0.87013784375204273, 0.87013784375204273, 0.87013574957233109, 0.87013574957233109, 0.87013574957233109, 0.87013323262128794, 0.87013181092958436, 0.87013082988899426, 0.87013082988899426, 0.87012429918853496, 0.87012429918853496, 0.87012429918853496, 0.87012429918853496, 0.87012429918853496, 0.87012429918853496, 0.87012429918853496, 0.87012429918853496, 0.87012429918853496, 0.87012429918853496, 0.87012429918853496, 4.8530189962931471, 0.87012429918853496, 0.87012429918853496, 0.87012429918853496, 2.856178825876623, 2.856176678497047, 1.8599425569500432, 0.87012429918853496, 0.87012429918853496, 0.87012429918853496, 5.8281802121908957, 51.742791998458088, 3.8161903258341927, 43.617880594082251, 10.72363928157044, 69.481591967673651, 372.48105148554566, 8.7175512952924112, 2.8037154754894265, 2.8024217875481074, 187.69784069624873, 157.90942892069128, 219.47691083128436, 237.98759374899402, 132.63007657256506, 137.9140849440895, 82.219698530494298, 7.6871227574787451, 7.6860311980106975, 215.4520192754411, 131.34999956074563, 317.08860777210316, 240.24077313115399, 213.01321557094656, 134.61423863770551, 67.444168037380038, 181.57888548189524, 102.81021369906212, 209.69812734106489, 273.89675554220435, 397.2608098908928, 283.17385672302242, 206.1291555060551, 234.71612413557691, 291.07838897858403, 109.18490536183602, 209.41982112709323, 359.36301202569541, 225.71174590691425, 240.8934072183211, 241.14158140471812, 131.4643054605136, 193.80185032952085, 195.96091389143686, 161.83256675586856, 145.98198827302383, 171.11745768595654, 177.29680062632278, 169.90995442440837, 167.34657546423995, 0.87057593493270691, 0.87057589833984539, 0.87057400647496619, 0.8705740478354298, 0.8705740478354298, 0.8705740478354298, 0.8705739603859316, 0.8705739603859316, 0.8705739603859316, 0.8705729448234375, 0.87057263782454164, 0.87057263782454164, 0.87057246296904545, 0.87057199365772009, 0.87057169121907274, 0.87057169121907274, 0.87056915602681417, 0.87054641880600303, 1.8604473460293385, 1.8604247481881064, 1.3494114150141407, 1.7710263989060675, 1.7710196680383756, 1.7709955679799012, 1.7709899256319277, 1.7709449357199165, 1.7683569401324997, 1.7682145300781098, 3.7537736179745465, 6.7160655646246026, 4.9552544198480213, 1416.462966801648, 742.20178647338719, 420.13160511538064, 791.60439358153155, 561.88796834674315, 677.77578187713516, 586.52962614765295, 358.83750649975275, 567.20877374418581, 405.17101209504597, 447.89426635611187, 372.41888837587055, 458.33396130531548, 257.12960827205308, 477.12179873630572, 127.27149994834572, 303.14568725869577, 395.49376885354457, 132.80566756443628, 278.02529010534198, 196.00188062413719, 238.06649684197043, 139.08280374773, 629.70657005550129, 143.17007700941994, 201.06180221149134, 193.44211686747161, 259.17737947093082, 339.29719318156162, 482.51111504014278, 203.73323013862156, 409.04605571675398, 268.16079426346283, 295.70971839283624, 321.28981656484791, 406.89580930345704, 306.72780889653779, 268.10858701578962, 242.53483185330472, 291.99556505161939, 276.17084757043284, 0.87013242046670825, 0.87013088251329063, 0.87013088251329063, 0.87013088251329063, 0.87013088251329063, 0.87013088251329063, 0.87013088251329063, 0.87013088251329063, 0.87013088251329063, 0.87012892184768997, 0.87012743839504869, 1.8599202368982699, 2.8037068098012532, 10.756724543748282, 1.7702079899251038, 1.7702077289359497, 1.7701751073173364, 1.7675387412209302, 1.7675112808278102, 1.7675056718746593, 1.7650014104540637, 3.7493147938514877, 2.6909671527708263, 2.6909666964696979, 2.6875448380578448, 2.6847775212354668, 2.6844536775601329, 2.6814659655456765, 9.6348730641550429, 6.6315460126929127, 13.621410453199601, 20.611228436939403, 50.871612087894327, 30.478218384150416, 744.47751084584252, 536.04267807255906, 391.57110200063136, 286.9879333573657, 186.10655053453456, 193.16132408365027, 174.02134407662626, 150.98933230493162, 235.52749661018788, 131.51450557416135, 329.0132039907424, 141.91230242410194, 106.00054217494255, 121.92191875734044, 76.065550660614093, 105.19529887851202, 57.139902307395623, 98.93209575936045, 72.994974021674452, 80.929112643650157, 119.45293582237814, 157.56138907668725, 131.11886649078471, 115.90832712792859, 115.80203602046952, 146.5552964981602, 89.603683437674988, 92.17477300974609, 88.415652638637454, 84.680598831023147, 88.009726967968263, 93.08086968076995, 94.020876074568719, 87.941034329069026, 0.8711887219940494, 0.87118758521179185, 0.87118758521179185, 0.87118758521179185, 0.87118758521179185, 0.87118758521179185, 0.87118758521179185, 0.87118758521179185, 0.87118758521179185, 0.87118758521179185, 0.87118758521179185, 0.87118758521179185, 0.87118758521179185, 0.87118758521179185, 0.87118758521179185, 0.87118758521179185, 0.87118758521179185, 0.87118758521179185, 0.87118758521179185, 7.8354695020130443, 2.805421436353321, 1.7694668652298498, 6.7155533074538747, 4.7133707310119108, 4.7133653313972106, 4.7133467467905481, 7.6900228430370774, 2.689032912308384, 2.2778748707106935, 3.6262552864450623, 7.6055523391925792, 91.538777753862419, 64.102551794813152, 42.502081799725829, 520.96305209356058, 484.71231919914783, 405.9823092898784, 171.86717567493938, 207.05556433374099, 284.72934769387405, 284.26957725244989, 252.51457546733778, 174.3931748783553, 125.6650580503164, 160.51401168644895, 66.264520812461569, 14.56987545762011, 82.58481628722474, 223.89011926551487, 27.331669509714786, 65.982868638168057, 142.382933995418, 71.399100940181413, 101.03234480685704, 132.90057946600905, 64.450726525644541, 93.74812776396351, 99.62099873805289, 179.16536962241241, 77.820217448146735, 54.949486915446172, 65.05184422668512, 135.55811755777029, 79.007641333304221, 68.717100817776512, 73.184931325371366, 74.218529480687039, 75.108062655096589, 0.85077934937835342, 0.85077905055258607, 0.85077905055258607, 0.85077911327311317, 0.85077911327311317, 0.85077911327311317, 0.85077911327311317, 0.85077911327311317, 0.85077911327311317, 0.85077911327311317, 0.8507787292729726, 0.85077831054104924, 0.85077831054104924, 0.85077831054104924, 0.85077831054104924, 0.85077831054104924, 0.85077070424604817, 0.85077070424604817, 0.85077070424604817, 0.85077070424604817, 0.8507659511650848, 1.8373971217868801, 1.8373971928055359, 1.8373963595648704, 2.8323869928441807, 2.8323869928441807, 2.7719399912534146, 2.7690977788257518, 4.7428734578089591, 14.732623297849139, 502.11447810180874, 810.20621186319352, 1029.7685404977594, 379.01773670267039, 322.05461407346246, 274.93079567629337, 623.6711387788929, 281.69323363421904, 289.0496103311379, 61.304819853991162, 208.26612240750239, 73.665074815238171, 160.01181846529423, 179.07183337791398, 146.78572588717117, 131.32471346070855, 53.259998776340119, 51.80098495703318, 75.982857952280369, 7.6308805026134685, 83.015691921143102, 47.435881644774796, 19.113969631452598, 66.057528598039013, 186.1037730827496, 401.01957453207712, 143.66521282158521, 163.71568217784161, 63.776956936166826, 174.83172058134889, 94.868422482201836, 229.33985778491262, 67.164753740725899, 119.45409675290936, 113.33159852018836, 80.822374296778236, 70.047870346865139, 81.017543100620287, 1.7532344117623413, 1.7532257644773437, 1.7531712388938632, 1.7531818446323975, 1.7531817538727319, 1.7530999235060809, 1.7530548607964562, 1.7503927548921601, 1.7501708998863215, 4.6825278212026413, 7.6606974395680751, 2.6677785055535868, 2.6675999999469289, 2.664318691037098, 2.664318537466396, 2.6608806526307731, 2.6608021393057295, 2.6568390617309592, 2.6576171513741631, 1.3801625225017495, 3.5982495825278167, 3.59817988889957, 3.594069542815534, 7.5682835509983599, 12.53595896023092, 22.519090119091722, 4.5365881437517288, 3.0278945864080575, 3.0149756773918481, 4.5210854407573748, 17.456315574387233, 19.41431144891077, 442.18730766211189, 590.72979368024869, 138.90855953573231, 78.713459545616445, 13.411944044446809, 62.645270239782207, 42.154120163119366, 97.007949944208548, 66.786699194065932, 70.952176899935722, 81.415119404365953, 391.66538624178349, 31.190146016008015, 17.339460268174658, 182.51181959888527, 91.768841127930742, 53.010921369366329, 167.71075179486087, 24.247908765453115, 19.310292953287743, 27.202702959261604, 41.781944551131488, 12.069836623738032, 40.894083178410526, 73.760698930497796, 132.47062300813693, 50.398894005337532, 190.92051909989223, 180.90043333708888, 81.682106253815789, 80.130101533685092, 102.17473251915108, 70.249417241444164, 79.0939681611693, 72.457215860212486, 62.2516606359316, 58.889265546252169, 55.299802169281961, 64.375426192419297, 58.234609471254338, 57.127548065889336, 53.996879632575066, 0.86259737630755118, 0.86259737630755118, 0.86259737630755118, 0.86259737630755118, 0.86259737630755118, 0.86259737630755118, 0.86259737630755118, 0.86259737630755118, 1.7566502176223364, 3.7387363363402621, 1.7538518322135033, 1.7538194053702565, 3.7358793106878854, 1.7512326620971639, 2.6690916840213021, 2.6689437488512109, 2.6659390582578322, 2.6644958726332102, 3.5986124130678836, 3.5968401670098444, 4.5396544238177015, 4.5356692159257959, 4.5308150362658584, 4.5311231148149167, 5.4992024253357163, 5.4952661718525633, 5.4912255709685436, 6.4539507253260489, 4.8347663985894789, 9.1531933411128481, 180.94405868667567, 47.119948387876953, 99.324307271749475, 71.954113469180569, 119.71569291383396, 68.757405954237925, 31.889551360721942, 83.734198547958783, 54.756844319584431, 41.854744309046659, 46.44933528495897, 44.273027574113762, 47.491419459483993, 25.981670410796831, 51.341423623980717, 24.983458737796749, 72.483878146981766, 24.983456586261436, 25.94824808622084, 99.992633559930553, 46.447772459658268, 88.912738824963867, 24.931939243445683, 21.989148221645831, 21.989148221645831, 54.110910171578787, 24.872169565863651, 22.909722788473388, 65.344378015066852, 49.178471858150459, 28.380192838000486, 28.719687637547928, 33.293801981707638, 37.490362902859616, 36.986873555511664, 35.676783162060204, 28.057170551547586, 32.656364075356912, 28.654826936671629, 35.713321802069913, 25.061167300918935, 0.83543349406274359, 0.83543307721470594, 0.83543298307689451, 0.83543298307689451, 0.83543269428004552, 0.83543269428004552, 0.83543258154395217, 0.83543208477535369, 0.83543212994600979, 0.83543212994600979, 0.83543212994600979, 0.83543212994600979, 0.83543212994600979, 0.83543212994600979, 0.83543212994600979, 0.83543162837772567, 0.83543102727683538, 0.83543102727683538, 0.83543051585000117, 0.83543051585000117, 0.83543051585000117, 0.83543051585000117, 0.83543051585000117, 0.83543051585000117, 0.83543051585000117, 0.83543023659339966, 0.83543000878656726, 0.83543000878656726, 0.8354276139211898, 0.83542716083282798, 0.83542716083282798, 1.8191878379518891, 1.8191833226624181, 50.48013937383304, 490.54521820853648, 25.52436871647696, 17.941442678600545, 8.6362284343103592, 231.4868646069188, 2.7462282664423103, 2.7458004653805643, 84.068131972010676, 113.92768990956802, 145.12846430607615, 9.5236594167451951, 42.297919311108558, 10.495676191678937, 94.174565476409526, 97.244307651016513, 80.756818020110444, 47.864577724862833, 4.6186461293841594, 66.413723460860666, 25.092441493045541, 27.053716397080589, 41.790996324557433, 19.172148656548643, 89.694528175371005, 18.182264463704801, 40.020944990378965, 8.4357642681017317, 27.563573660963485, 61.976271995080225, 94.319304207022398, 54.288974368779279, 40.055403607227198, 66.399725931658963, 43.432901782193667, 49.364050014826454, 70.608394026976171, 54.492367956857763, 41.674753600673263, 46.925031304288545, 45.529508517813809, 43.746240120051596, 36.18190347948714, 46.621954103130534, 48.742751622620027, 39.566945977512049, 0.8168760469037869, 0.8168758271932165, 0.8168758271932165, 0.81687555497369002, 0.81687501686523689, 0.81687501686523689, 0.81687476416731453, 0.81687476416731453, 0.81687476416731453, 0.81687476416731453, 0.81687476416731453, 0.81687476416731453, 0.81687476416731453, 0.81687465894249134, 0.81687465894249134, 0.81687343401326962, 0.81687343401326962, 0.81687343401326962, 0.81687332005970059, 0.81687282399111849, 0.81687256416309284, 0.81687256416309284, 0.81687256416309284, 0.81687256416309284, 0.81687256416309284, 0.81687256416309284, 0.81687256416309284, 0.81687256416309284, 0.81687256416309284, 0.81687256416309284, 0.81687256416309284, 0.81687256416309284, 0.81687256416309284, 0.81687256416309284, 0.81687256416309284, 0.81687256416309284, 0.81687256416309284, 1.7967661715100796, 1.7967661715100796, 1.7967639104634854, 0.81687256416309284, 0.81687256416309284, 0.81687256416309284, 0.81687256416309284, 0.81687256416309284, 0.81687256416309284, 0.81687256416309284, 0.81687256416309284, 0.81687256416309284, 0.81687256416309284, 0.81687256416309284, 0.81687256416309284, 0.81687256416309284, 28.549691729561257, 2.714519376766598, 29.066153580690226, 151.38788804727236, 86.552557487415314, 15.296915643414595, 43.875908094394937, 14.313285474921489, 58.95967591990361, 133.69160905914379, 21.162146756525271, 20.171073630566251, 4.5733567243455653, 40.78517997463792, 77.469663137176923, 67.108185953283041, 34.167246286920133, 1.4537170058046185, 45.373275524997673, 8.370934307015915, 17.086649315998518, 20.002754919723156, 35.652835563924597, 33.691087225102741, 7.4054429535672401, 38.046701845457648, 70.975404023767922, 51.308994720913134, 25.886067745981457, 34.651821368094659, 33.39411777459955, 26.89764135714821, 87.658812075151189, 30.21898513679011, 51.736543329499668, 37.361156833973077, 56.42968827048692, 41.419992725942528, 44.548168663140743, 25.774602197130449, 27.304722311495418, 23.454487675312574, 17.386590693624861, 24.259414371186221, 24.115006922130782, 27.130420118127283, 25.172475342014316], \"Total\": [1246, 926, 1589, 1230, 1045, 779, 582, 1811, 830, 609, 503, 498, 537, 614, 657, 1184, 834, 951, 715, 425, 855, 1205, 542, 380, 775, 1084, 612, 1338, 763, 409, 1, 1, 1, 1, 1, 1, 1, 1, 1, 1, 1, 1, 1, 1, 1, 1, 1, 1, 1, 1, 1, 1, 1, 1, 1, 1, 1, 1, 1, 1, 14, 1, 1, 3, 2, 2, 16, 24, 65, 8, 6, 6, 47, 17, 198, 22, 53, 85, 62, 35, 153, 891, 42, 191, 357, 337, 32, 101, 179, 42, 88, 1084, 291, 913, 385, 1184, 356, 531, 452, 373, 1190, 550, 869, 1811, 828, 465, 1205, 317, 1230, 779, 730, 775, 562, 558, 1338, 718, 972, 645, 698, 736, 1, 1, 1, 1, 1, 1, 1, 1, 1, 1, 1, 1, 1, 1, 1, 1, 1, 1, 1, 1, 1, 1, 1, 1, 1, 1, 1, 1, 1, 1, 5, 1, 1, 1, 3, 3, 2, 1, 1, 1, 6, 52, 4, 44, 11, 70, 398, 9, 3, 3, 201, 207, 244, 290, 159, 147, 83, 8, 8, 248, 196, 638, 374, 486, 183, 94, 367, 129, 425, 639, 1213, 736, 429, 495, 1084, 130, 558, 1811, 779, 828, 796, 216, 913, 1205, 698, 522, 562, 1190, 1338, 965, 1, 1, 1, 1, 1, 1, 1, 1, 1, 1, 1, 1, 1, 1, 1, 1, 1, 1, 2, 2, 2, 2, 2, 2, 2, 2, 2, 2, 4, 7, 7, 1589, 834, 421, 951, 657, 855, 763, 419, 708, 548, 615, 442, 627, 272, 706, 128, 311, 535, 151, 279, 207, 239, 144, 1213, 144, 202, 238, 330, 546, 965, 305, 972, 431, 718, 561, 1338, 796, 524, 593, 1045, 1190, 1, 1, 1, 1, 1, 1, 1, 1, 1, 1, 1, 2, 3, 11, 2, 2, 2, 2, 2, 2, 2, 4, 3, 3, 3, 3, 3, 3, 10, 7, 14, 21, 57, 31, 830, 537, 407, 290, 187, 216, 175, 258, 360, 134, 715, 143, 107, 123, 77, 110, 58, 116, 74, 82, 178, 439, 324, 212, 290, 730, 224, 169, 257, 465, 346, 542, 828, 698, 1, 1, 1, 1, 1, 1, 1, 1, 1, 1, 1, 1, 1, 1, 1, 1, 1, 1, 1, 8, 3, 2, 7, 5, 5, 5, 8, 3, 3, 4, 8, 92, 73, 43, 609, 614, 542, 202, 229, 358, 612, 473, 229, 161, 249, 107, 18, 122, 715, 41, 67, 342, 75, 209, 374, 130, 164, 250, 1230, 178, 56, 98, 1184, 206, 205, 891, 730, 972, 1, 1, 1, 1, 1, 1, 1, 1, 1, 1, 1, 1, 1, 1, 1, 1, 1, 1, 1, 1, 1, 2, 2, 2, 3, 3, 3, 3, 5, 15, 503, 926, 1246, 380, 323, 287, 1045, 403, 409, 62, 248, 179, 161, 223, 180, 149, 54, 55, 87, 8, 84, 50, 24, 67, 439, 1811, 336, 402, 74, 584, 106, 1338, 114, 779, 501, 612, 219, 252, 2, 2, 2, 2, 2, 2, 2, 2, 2, 5, 8, 3, 3, 3, 3, 3, 3, 3, 3, 3, 4, 4, 4, 8, 13, 23, 5, 6, 4, 5, 18, 20, 498, 779, 140, 83, 16, 70, 43, 139, 74, 72, 147, 1230, 32, 18, 431, 110, 54, 402, 25, 20, 28, 59, 21, 49, 110, 612, 66, 1205, 1184, 189, 197, 451, 197, 245, 234, 121, 199, 97, 358, 346, 302, 346, 1, 1, 1, 1, 1, 1, 1, 1, 2, 4, 2, 2, 4, 2, 3, 3, 3, 3, 4, 4, 5, 5, 5, 5, 6, 6, 6, 7, 6, 12, 182, 48, 107, 73, 148, 79, 34, 150, 68, 43, 53, 56, 74, 27, 109, 26, 244, 26, 27, 775, 123, 715, 26, 23, 23, 290, 26, 24, 532, 239, 51, 56, 77, 174, 368, 210, 139, 230, 169, 730, 96, 1, 1, 1, 1, 1, 1, 1, 1, 1, 1, 1, 1, 1, 1, 1, 1, 1, 1, 1, 1, 1, 1, 1, 1, 1, 1, 1, 1, 1, 1, 1, 2, 2, 51, 582, 26, 21, 9, 266, 3, 3, 118, 183, 289, 10, 48, 11, 159, 124, 89, 49, 5, 116, 26, 28, 43, 20, 303, 19, 45, 9, 37, 142, 657, 192, 52, 322, 151, 202, 830, 360, 137, 197, 55, 400, 136, 1811, 1246, 796, 1, 1, 1, 1, 1, 1, 1, 1, 1, 1, 1, 1, 1, 1, 1, 1, 1, 1, 1, 1, 1, 1, 1, 1, 1, 1, 1, 1, 1, 1, 1, 1, 1, 1, 1, 1, 1, 2, 2, 2, 1, 1, 1, 1, 1, 1, 1, 1, 1, 1, 1, 1, 1, 29, 3, 34, 268, 88, 16, 45, 15, 70, 425, 22, 21, 5, 42, 108, 76, 41, 3, 73, 9, 18, 34, 37, 35, 8, 44, 273, 107, 32, 106, 40, 44, 1811, 53, 322, 220, 1084, 293, 233, 227, 105, 173, 317, 182, 212, 360, 608], \"logprob\": [30.0, 29.0, 28.0, 27.0, 26.0, 25.0, 24.0, 23.0, 22.0, 21.0, 20.0, 19.0, 18.0, 17.0, 16.0, 15.0, 14.0, 13.0, 12.0, 11.0, 10.0, 9.0, 8.0, 7.0, 6.0, 5.0, 4.0, 3.0, 2.0, 1.0, -9.8594000000000008, -9.8594000000000008, -9.8594000000000008, -9.8594000000000008, -9.8594000000000008, -9.8594000000000008, -9.8594000000000008, -9.8594000000000008, -9.8594000000000008, -9.8594000000000008, -9.8594000000000008, -9.8594000000000008, -9.8594000000000008, -9.8594000000000008, -9.8594000000000008, -9.8594000000000008, -9.8594000000000008, -9.8594000000000008, -9.8594000000000008, -9.8594000000000008, -9.8594000000000008, -9.8594000000000008, -9.8594000000000008, -9.8594000000000008, -9.8594000000000008, -9.8594000000000008, -9.8594000000000008, -9.8594000000000008, -9.8594000000000008, -9.8594000000000008, -7.2373000000000003, -9.8594000000000008, -9.8594000000000008, -8.7728999999999999, -9.1753999999999998, -9.1753999999999998, -7.4966999999999997, -7.1920999999999999, -6.4791999999999996, -8.1856000000000009, -8.4170999999999996, -8.4238, -6.7868000000000004, -7.6475, -5.7664999999999997, -7.4904999999999999, -6.8891999999999998, -6.5625999999999998, -6.8101000000000003, -7.2670000000000003, -6.2134, -5.0293999999999999, -7.2050999999999998, -6.1417999999999999, -5.7172999999999998, -5.8015999999999996, -7.4337, -6.6490999999999998, -6.2724000000000002, -7.2755999999999998, -6.7807000000000004, -5.0801999999999996, -5.9923999999999999, -5.2397999999999998, -5.8108000000000004, -5.1100000000000003, -5.8749000000000002, -5.6656000000000004, -5.7641999999999998, -5.8865999999999996, -5.1927000000000003, -5.6707999999999998, -5.4062000000000001, -5.0377999999999998, -5.5011999999999999, -5.8139000000000003, -5.3457999999999997, -6.0288000000000004, -5.3865999999999996, -5.6291000000000002, -5.6700999999999997, -5.6456, -5.8026999999999997, -5.8327, -5.5658000000000003, -5.7709999999999999, -5.7005999999999997, -5.8240999999999996, -5.8085000000000004, -5.8055000000000003, -9.0149000000000008, -9.0149000000000008, -9.0149000000000008, -9.0149000000000008, -9.0149000000000008, -9.0149000000000008, -9.0149000000000008, -9.0149000000000008, -9.0149000000000008, -9.0149000000000008, -9.0149000000000008, -9.0149000000000008, -9.0149000000000008, -9.0149000000000008, -9.0149000000000008, -9.0149000000000008, -9.0149000000000008, -9.0149000000000008, -9.0149000000000008, -9.0149000000000008, -9.0149000000000008, -9.0149000000000008, -9.0149000000000008, -9.0149000000000008, -9.0149000000000008, -9.0149000000000008, -9.0149000000000008, -9.0149000000000008, -9.0149000000000008, -9.0149000000000008, -7.4199999999999999, -9.0149000000000008, -9.0149000000000008, -9.0149000000000008, -7.9283999999999999, -7.9283999999999999, -8.3308, -9.0149000000000008, -9.0149000000000008, -9.0149000000000008, -7.3929999999999998, -5.6128, -7.8837999999999999, -6.1795, -7.2575000000000003, -6.0187999999999997, -4.8551000000000002, -7.4873000000000003, -8.2578999999999994, -8.2649000000000008, -5.4184000000000001, -5.5651999999999999, -5.4766000000000004, -5.3827999999999996, -5.7785000000000002, -5.8754999999999997, -6.2594000000000003, -7.7150999999999996, -7.7187999999999999, -5.6012000000000004, -5.7674000000000003, -5.0496999999999996, -5.4130000000000003, -5.2626999999999997, -5.8638000000000003, -6.2710999999999997, -5.4935, -6.1100000000000003, -5.4306999999999999, -5.1989999999999998, -4.8399000000000001, -5.1578999999999997, -5.4737999999999998, -5.4084000000000003, -5.0125999999999999, -6.1116999999999999, -5.4421999999999997, -4.9302000000000001, -5.3277999999999999, -5.3101000000000003, -5.3445, -5.9028999999999998, -5.5270000000000001, -5.5403000000000002, -5.6786000000000003, -5.7194000000000003, -5.7122999999999999, -5.6237000000000004, -5.6604000000000001, -5.6891999999999996, -8.9780999999999995, -8.9780999999999995, -8.9780999999999995, -8.9780999999999995, -8.9780999999999995, -8.9780999999999995, -8.9780999999999995, -8.9780999999999995, -8.9780999999999995, -8.9780999999999995, -8.9780999999999995, -8.9780999999999995, -8.9780999999999995, -8.9780999999999995, -8.9780999999999995, -8.9780999999999995, -8.9780999999999995, -8.9780999999999995, -8.2940000000000005, -8.2940000000000005, -8.6852, -8.8384, -8.8384, -8.8384999999999998, -8.8384999999999998, -8.8384999999999998, -8.8514999999999997, -8.8515999999999995, -8.1597000000000008, -7.7195999999999998, -7.8041, -3.5423, -4.1040999999999999, -4.7023000000000001, -4.1086, -4.4194000000000004, -4.2511000000000001, -4.3414999999999999, -4.8182, -4.4412000000000003, -4.6707999999999998, -4.6161000000000003, -4.8457999999999997, -4.6134000000000004, -5.1803999999999997, -4.5534999999999997, -5.7209000000000003, -5.1273999999999997, -4.7662000000000004, -5.6223000000000001, -5.2305999999999999, -5.4344000000000001, -5.3423999999999996, -5.6936999999999998, -4.3460000000000001, -5.7335000000000003, -5.5166000000000004, -5.4217000000000004, -5.2206000000000001, -4.9047000000000001, -4.5968999999999998, -5.2919, -4.7274000000000003, -5.1478999999999999, -4.9217000000000004, -5.0682, -4.7538, -5.0705999999999998, -5.1924999999999999, -5.1919000000000004, -5.1383999999999999, -5.1471999999999998, -8.1964000000000006, -8.1964000000000006, -8.1964000000000006, -8.1964000000000006, -8.1964000000000006, -8.1964000000000006, -8.1964000000000006, -8.1964000000000006, -8.1964000000000006, -8.1964000000000006, -8.1964000000000006, -7.5122999999999998, -7.4394, -6.3094000000000001, -8.0566999999999993, -8.0566999999999993, -8.0568000000000008, -8.0698000000000008, -8.0698000000000008, -8.0698000000000008, -8.0817999999999994, -7.3907999999999996, -7.9341999999999997, -7.9341999999999997, -7.9459, -7.9562999999999997, -7.9573999999999998, -7.9680999999999997, -6.8255999999999997, -7.2081, -6.5156000000000001, -6.1279000000000003, -5.2224000000000004, -6.0305999999999997, -3.3980000000000001, -3.7706, -4.0682, -4.3757999999999999, -4.7595000000000001, -4.7248000000000001, -4.9177, -4.7435999999999998, -4.5808, -5.2531999999999996, -4.2553000000000001, -5.2272999999999996, -5.4344999999999999, -5.3703000000000003, -5.6989000000000001, -5.5339, -5.9020999999999999, -5.5255000000000001, -5.8131000000000004, -5.7733999999999996, -5.3609999999999998, -4.9471999999999996, -5.1139999999999999, -5.3575999999999997, -5.2938999999999998, -4.9836999999999998, -5.4508999999999999, -5.5933000000000002, -5.5056000000000003, -5.4055, -5.5369000000000002, -5.4720000000000004, -5.4324000000000003, -5.4699999999999998, -8.0023999999999997, -8.0023999999999997, -8.0023999999999997, -8.0023999999999997, -8.0023999999999997, -8.0023999999999997, -8.0023999999999997, -8.0023999999999997, -8.0023999999999997, -8.0023999999999997, -8.0023999999999997, -8.0023999999999997, -8.0023999999999997, -8.0023999999999997, -8.0023999999999997, -8.0023999999999997, -8.0023999999999997, -8.0023999999999997, -8.0023999999999997, -6.0506000000000002, -7.2454000000000001, -7.8757999999999999, -6.7519999999999998, -7.1139000000000001, -7.1139000000000001, -7.1139000000000001, -6.7026000000000003, -7.7523, -7.9036999999999997, -7.6414, -6.9541000000000004, -4.6231999999999998, -4.8601999999999999, -5.4669999999999996, -3.5575999999999999, -3.7000999999999999, -3.8136000000000001, -4.5446, -4.5549999999999997, -4.2759, -4.0632999999999999, -4.2973999999999997, -4.7827000000000002, -5.0529999999999999, -4.8556999999999997, -5.4038000000000004, -6.4130000000000003, -5.3883999999999999, -4.4546000000000001, -6.0018000000000002, -5.7415000000000003, -4.8954000000000004, -5.7443999999999997, -5.2595999999999998, -5.0008999999999997, -5.5388999999999999, -5.4333, -5.2956000000000003, -4.6234999999999999, -5.4946000000000002, -5.9568000000000003, -5.7468000000000004, -4.8798000000000004, -5.4974999999999996, -5.5401999999999996, -5.4230999999999998, -5.4785000000000004, -5.4515000000000002, -8.0588999999999995, -8.0588999999999995, -8.0588999999999995, -8.0588999999999995, -8.0588999999999995, -8.0588999999999995, -8.0588999999999995, -8.0588999999999995, -8.0588999999999995, -8.0588999999999995, -8.0588999999999995, -8.0588999999999995, -8.0588999999999995, -8.0588999999999995, -8.0588999999999995, -8.0588999999999995, -8.0588999999999995, -8.0588999999999995, -8.0588999999999995, -8.0588999999999995, -8.0588999999999995, -7.3747999999999996, -7.3747999999999996, -7.3747999999999996, -6.9724000000000004, -6.9724000000000004, -7.3018999999999998, -7.3152999999999997, -6.8848000000000003, -5.7900999999999998, -3.4590999999999998, -3.0514999999999999, -2.8647, -3.8441000000000001, -3.9687000000000001, -4.1592000000000002, -3.3115999999999999, -4.0129999999999999, -4.0593000000000004, -5.3201999999999998, -4.4260000000000002, -4.6424000000000003, -4.7122999999999999, -4.5315000000000003, -4.6822999999999997, -4.8182, -5.5232999999999999, -5.5568999999999997, -5.2874999999999996, -6.7706, -5.3644999999999996, -5.6868999999999996, -6.1208999999999998, -5.5498000000000003, -4.4981, -3.7193000000000001, -4.6768999999999998, -4.6295999999999999, -5.5067000000000004, -4.5068999999999999, -5.3335999999999997, -4.2592999999999996, -5.3971999999999998, -4.8628999999999998, -5.0137, -5.2239000000000004, -5.3872999999999998, -5.3749000000000002, -7.5765000000000002, -7.5765000000000002, -7.5765000000000002, -7.5765000000000002, -7.5765000000000002, -7.5766, -7.5766, -7.5895999999999999, -7.5896999999999997, -6.8456000000000001, -6.4199999999999999, -7.4539999999999997, -7.4541000000000004, -7.4654999999999996, -7.4656000000000002, -7.4771999999999998, -7.4771999999999998, -7.4775999999999998, -7.4878, -7.5065999999999997, -7.3449, -7.3449, -7.3552999999999997, -6.6730999999999998, -6.2403000000000004, -5.6904000000000003, -7.2557999999999998, -7.0903, -7.5114000000000001, -7.2923, -6.0681000000000003, -6.0358999999999998, -3.4899, -3.1739000000000002, -4.6909000000000001, -5.1112000000000002, -6.3243999999999998, -5.2641, -5.6281999999999996, -4.8238000000000003, -5.2733999999999996, -5.3217999999999996, -4.8757000000000001, -3.4742000000000002, -5.8849999999999998, -6.2694999999999999, -4.1832000000000003, -5.0831, -5.5556999999999999, -4.3353999999999999, -6.0632999999999999, -6.2050000000000001, -6.0073999999999996, -5.6094999999999997, -6.2233000000000001, -5.7432999999999996, -5.3188000000000004, -4.4596999999999998, -5.6056999999999997, -4.1951000000000001, -4.2240000000000002, -5.1338999999999997, -5.1180000000000003, -4.8383000000000003, -5.2058, -5.1561000000000003, -5.1936, -5.4325999999999999, -5.2979000000000003, -5.5294999999999996, -5.3920000000000003, -5.3971, -5.4150999999999998, -5.4287999999999998, -7.3223000000000003, -7.3223000000000003, -7.3223000000000003, -7.3223000000000003, -7.3223000000000003, -7.3223000000000003, -7.3223000000000003, -7.3223000000000003, -7.1826999999999996, -6.4974999999999996, -7.1957000000000004, -7.1957000000000004, -6.5099, -7.2076000000000002, -7.0716999999999999, -7.0716999999999999, -7.0822000000000003, -7.0829000000000004, -6.9618000000000002, -6.9707999999999997, -6.8704999999999998, -6.8799999999999999, -6.8898000000000001, -6.8906999999999998, -6.7630999999999997, -6.7716000000000003, -6.7803000000000004, -6.6887999999999996, -6.9282000000000004, -6.3806000000000003, -4.0156000000000001, -5.1764999999999999, -4.6140999999999996, -4.9280999999999997, -4.4185999999999996, -4.9908000000000001, -5.6291000000000002, -4.7457000000000003, -5.2709000000000001, -5.5606999999999998, -5.4478999999999997, -5.4165999999999999, -5.3403, -5.9199999999999999, -5.2167000000000003, -5.9574999999999996, -4.8460000000000001, -5.9574999999999996, -5.9535, -4.4751000000000003, -5.3418999999999999, -4.6314000000000002, -6.008, -6.0795000000000003, -6.0795000000000003, -5.1223999999999998, -6.0655999999999999, -6.1139000000000001, -4.9856999999999996, -5.2960000000000003, -5.8383000000000003, -5.8186999999999998, -5.7377000000000002, -5.5305999999999997, -5.4059999999999997, -5.5488999999999997, -5.6848000000000001, -5.6056999999999997, -5.6590999999999996, -5.4633000000000003, -5.7560000000000002, -7.4234999999999998, -7.4234999999999998, -7.4234999999999998, -7.4234999999999998, -7.4234999999999998, -7.4234999999999998, -7.4234999999999998, -7.4234999999999998, -7.4234999999999998, -7.4234999999999998, -7.4234999999999998, -7.4234999999999998, -7.4234999999999998, -7.4234999999999998, -7.4234999999999998, -7.4234999999999998, -7.4234999999999998, -7.4234999999999998, -7.4234999999999998, -7.4234999999999998, -7.4234999999999998, -7.4234999999999998, -7.4234999999999998, -7.4234999999999998, -7.4234999999999998, -7.4234999999999998, -7.4234999999999998, -7.4234999999999998, -7.4234999999999998, -7.4234999999999998, -7.4234999999999998, -6.7393999999999998, -6.7393999999999998, -4.4720000000000004, -2.7860999999999998, -5.0654000000000003, -5.2836999999999996, -5.8802000000000003, -3.5829, -6.6665000000000001, -6.6666999999999996, -4.5376000000000003, -4.2980999999999998, -4.0586000000000002, -6.0526999999999997, -5.1284000000000001, -6.0114000000000001, -4.5065999999999997, -4.6990999999999996, -4.8959999999999999, -5.3067000000000002, -6.5536000000000003, -4.9104000000000001, -5.7286000000000001, -5.6931000000000003, -5.5050999999999997, -5.9058000000000002, -4.5495000000000001, -5.9462999999999999, -5.5448000000000004, -6.3430999999999997, -5.6524000000000001, -5.0124000000000004, -4.3949999999999996, -4.9443999999999999, -5.5400999999999998, -4.8987999999999996, -5.2054999999999998, -5.1082999999999998, -4.7297000000000002, -5.0118, -5.3406000000000002, -5.2788000000000004, -5.5683999999999996, -5.2138999999999998, -5.4093, -5.1300999999999997, -5.1741000000000001, -5.3094999999999999, -7.3655999999999997, -7.3655999999999997, -7.3655999999999997, -7.3655999999999997, -7.3655999999999997, -7.3655999999999997, -7.3655999999999997, -7.3655999999999997, -7.3655999999999997, -7.3655999999999997, -7.3655999999999997, -7.3655999999999997, -7.3655999999999997, -7.3655999999999997, -7.3655999999999997, -7.3655999999999997, -7.3655999999999997, -7.3655999999999997, -7.3655999999999997, -7.3655999999999997, -7.3655999999999997, -7.3655999999999997, -7.3655999999999997, -7.3655999999999997, -7.3655999999999997, -7.3655999999999997, -7.3655999999999997, -7.3655999999999997, -7.3655999999999997, -7.3655999999999997, -7.3655999999999997, -7.3655999999999997, -7.3655999999999997, -7.3655999999999997, -7.3655999999999997, -7.3655999999999997, -7.3655999999999997, -6.6814999999999998, -6.6814999999999998, -6.6814999999999998, -7.3655999999999997, -7.3655999999999997, -7.3655999999999997, -7.3655999999999997, -7.3655999999999997, -7.3655999999999997, -7.3655999999999997, -7.3655999999999997, -7.3655999999999997, -7.3655999999999997, -7.3655999999999997, -7.3655999999999997, -7.3655999999999997, -4.7112999999999996, -6.6086, -5.0774999999999997, -3.9207000000000001, -4.7698999999999998, -5.7800000000000002, -5.1963999999999997, -5.8231999999999999, -4.9694000000000003, -3.9704000000000002, -5.6311999999999998, -5.6688999999999998, -6.4888000000000003, -5.3471000000000002, -4.8959000000000001, -5.1132, -5.4897999999999998, -6.8067000000000002, -5.2121000000000004, -6.2710999999999997, -5.9317000000000002, -5.6207000000000003, -5.585, -5.6128, -6.3384, -5.5063000000000004, -4.6422999999999996, -5.1420000000000003, -5.7377000000000002, -5.2370999999999999, -5.6528999999999998, -5.6273, -4.3216999999999999, -5.5629999999999997, -4.9713000000000003, -5.1071999999999997, -4.6338999999999997, -5.1421999999999999, -5.2019000000000002, -5.3384999999999998, -5.4737999999999998, -5.5292000000000003, -5.4992000000000001, -5.5305999999999997, -5.5312999999999999, -5.5321999999999996, -5.5274000000000001]}};\n",
       "\n",
       "function LDAvis_load_lib(url, callback){\n",
       "  var s = document.createElement('script');\n",
       "  s.src = url;\n",
       "  s.async = true;\n",
       "  s.onreadystatechange = s.onload = callback;\n",
       "  s.onerror = function(){console.warn(\"failed to load library \" + url);};\n",
       "  document.getElementsByTagName(\"head\")[0].appendChild(s);\n",
       "}\n",
       "\n",
       "if(typeof(LDAvis) !== \"undefined\"){\n",
       "   // already loaded: just create the visualization\n",
       "   !function(LDAvis){\n",
       "       new LDAvis(\"#\" + \"ldavis_el283547595250726547218360\", ldavis_el283547595250726547218360_data);\n",
       "   }(LDAvis);\n",
       "}else if(typeof define === \"function\" && define.amd){\n",
       "   // require.js is available: use it to load d3/LDAvis\n",
       "   require.config({paths: {d3: \"https://cdnjs.cloudflare.com/ajax/libs/d3/3.5.5/d3.min\"}});\n",
       "   require([\"d3\"], function(d3){\n",
       "      window.d3 = d3;\n",
       "      LDAvis_load_lib(\"https://cdn.rawgit.com/bmabey/pyLDAvis/files/ldavis.v1.0.0.js\", function(){\n",
       "        new LDAvis(\"#\" + \"ldavis_el283547595250726547218360\", ldavis_el283547595250726547218360_data);\n",
       "      });\n",
       "    });\n",
       "}else{\n",
       "    // require.js not available: dynamically load d3 & LDAvis\n",
       "    LDAvis_load_lib(\"https://cdnjs.cloudflare.com/ajax/libs/d3/3.5.5/d3.min.js\", function(){\n",
       "         LDAvis_load_lib(\"https://cdn.rawgit.com/bmabey/pyLDAvis/files/ldavis.v1.0.0.js\", function(){\n",
       "                 new LDAvis(\"#\" + \"ldavis_el283547595250726547218360\", ldavis_el283547595250726547218360_data);\n",
       "            })\n",
       "         });\n",
       "}\n",
       "</script>"
      ],
      "text/plain": [
       "<IPython.core.display.HTML object>"
      ]
     },
     "execution_count": 28,
     "metadata": {},
     "output_type": "execute_result"
    }
   ],
   "source": [
    "vis_data = gensimvis.prepare(final, corpus, dictionary)\n",
    "pyLDAvis.display(vis_data)"
   ]
  },
  {
   "cell_type": "code",
   "execution_count": null,
   "metadata": {
    "collapsed": true
   },
   "outputs": [],
   "source": []
  }
 ],
 "metadata": {
  "kernelspec": {
   "display_name": "Python 2",
   "language": "python",
   "name": "python2"
  },
  "language_info": {
   "codemirror_mode": {
    "name": "ipython",
    "version": 2
   },
   "file_extension": ".py",
   "mimetype": "text/x-python",
   "name": "python",
   "nbconvert_exporter": "python",
   "pygments_lexer": "ipython2",
   "version": "2.7.10"
  }
 },
 "nbformat": 4,
 "nbformat_minor": 0
}
